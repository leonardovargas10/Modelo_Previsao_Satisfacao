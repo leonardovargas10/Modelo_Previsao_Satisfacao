{
 "cells": [
  {
   "attachments": {},
   "cell_type": "markdown",
   "metadata": {},
   "source": [
    "<h1 style='color: blue; font-size: 34px; font-weight: bold;'> Projeto Proposto \n",
    "</h1>\n",
    "<p style='font-size: 18px; line-height: 2; margin: 0px 0px; text-align: justify; text-indent: 0px;'>    \n",
    "<i> Este projeto baseia-se na criação de um Modelo de Regressão para Previsão de Satisfação de Clientes. </i>       \n",
    "</p>  "
   ]
  },
  {
   "attachments": {},
   "cell_type": "markdown",
   "metadata": {},
   "source": [
    "# <font color='red' style='font-size: 40px;'> Problemática </font>\n",
    "<hr style='border: 2px solid red;'>\n",
    "\n",
    "<p style='font-size: 18px; line-height: 2; margin: 0px 0px; text-align: justify; text-indent: 0px;'>    \n",
    "<i>  Este projeto tem o intuito de ser um Modelo de Machine Learning para prever a insatisfação dos Clientes. A coluna ‘TARGET’ é a variável resposta. Ela é igual a 1 para clientes insatisfeitos e igual a 0 para clientes satisfeitos. Duas bases são dadas, uma para treino e uma para avaliação. Três são as tarefas a serem realizadas.\n",
    "\n",
    "\n",
    "</i> \n",
    "</p>  \n",
    "\n",
    "<p style='font-size: 18px; line-height: 2; margin: 0px 0px; text-align: justify; text-indent: 0px;'>    \n",
    "<i>  \n",
    "\n",
    "a) Um falso positivo ocorre quando classificamos um cliente como insatisfeito, mas ela não se comporta como tal. Neste caso, o custo de preparar e executar uma ação de retenção é um valor fixo de R$ 10 por cliente. Nada é ganho pois a ação de retenção não é capaz de mudar o comportamento do cliente. Um falso negativo ocorre quando um cliente é previsto como satisfeito, mas na verdade ele estava insatisfeito. Neste caso, nenhum dinheiro foi gasto e nada foi ganho. Um verdadeiro positivo é um cliente que estava insatisfeito e foi alvo de uma ação de retenção. O benefício neste caso é o lucro da ação (R$ 100) menos os custos relacionados à ação de retenção (R$ 10). Por fim, um verdadeiro negativo é um cliente insatisfeito e que não é alvo de nenhuma ação. O benefício neste caso é zero, isto é, nenhum custo, mas nenhum lucro. A primeira tarefa deste case é maximizar o lucro esperado por cliente considerando o contexto descrito no parágrafo acima.\n",
    "\n",
    "b) A segunda tarefa consiste em dar uma nota de 1 a 5 para cada cliente da base teste, respeitando a variável ‘TARGET’, isto é, o seu nível de satisfação, sendo 1 o mais insatisfeito e 5 o mais satisfeito. Ao dar essa nota deve-se ter em mente que somente os clientes com nota 1 serão alvos de uma ação de retenção e que o objetivo dessa ação é maximizar o lucro esperado por cliente (usando os mesmos valores da primeira questão).\n",
    "\n",
    "c) Todo conjunto de dados é passível de ser dividido em grupos coesos, conhecidos como agrupamentos naturais. A terceira tarefa é encontrar os três grupos naturais que possuem os maiores lucros esperados por cliente (usando os mesmos valores da\n",
    "primeira questão).\n",
    "\n",
    "\n",
    "</i> \n",
    "</p>  \n",
    "\n",
    "<p style='font-size: 18px; line-height: 2; margin: 0px 0px; text-align: justify; text-indent: 0px;'>    \n",
    "<i> \n",
    "</i> \n",
    "</p>  \n",
    "\n",
    "\n",
    "https://www.kaggle.com/competitions/santander-customer-transaction-prediction\n"
   ]
  },
  {
   "attachments": {},
   "cell_type": "markdown",
   "metadata": {},
   "source": [
    "# <font color='red' style='font-size: 40px;'> Bibliotecas Utilizadas </font>\n",
    "<hr style='border: 2px solid red;'>"
   ]
  },
  {
   "cell_type": "code",
   "execution_count": 40,
   "metadata": {},
   "outputs": [],
   "source": [
    "## Bibliotecas De Manipulação de Dados e Visualização\n",
    "import pandas as pd \n",
    "import builtins as builtins\n",
    "import matplotlib.pyplot as plt\n",
    "import seaborn as sns \n",
    "from IPython.display import display, Image\n",
    "\n",
    "## Bibliotecas de Modelagem Matemática e Estatística\n",
    "import numpy as np\n",
    "import scipy as sp \n",
    "import scipy.stats as stats\n",
    "import statsmodels\n",
    "import statsmodels.api as sm\n",
    "import statsmodels.formula.api as smf\n",
    "from scipy.stats import normaltest, ttest_ind, ttest_rel, mannwhitneyu, wilcoxon, kruskal\n",
    "from statsmodels.stats.weightstats import ztest\n",
    "from statsmodels.stats.diagnostic import lilliefors\n",
    "\n",
    "# Bibliotecas de Manipulação de Tempo\n",
    "import time\n",
    "import datetime\n",
    "\n",
    "# Bibliotecas de Seleção de Modelos\n",
    "from sklearn.model_selection import train_test_split, KFold, cross_val_score, cross_validate\n",
    "from sklearn.feature_selection import RFE, SelectKBest, chi2, VarianceThreshold\n",
    "from feature_engine.selection import DropConstantFeatures, DropCorrelatedFeatures, SmartCorrelatedSelection\n",
    "from skopt import BayesSearchCV\n",
    "from skopt.space import Real, Categorical, Integer \n",
    "\n",
    "# Bibliotecas de Pré-Processamento e Pipeline\n",
    "from category_encoders import BinaryEncoder\n",
    "from sklearn.preprocessing import StandardScaler, MinMaxScaler\n",
    "from sklearn.pipeline import Pipeline, make_pipeline\n",
    "from sklearn.compose import ColumnTransformer\n",
    "from sklearn.impute import SimpleImputer\n",
    "\n",
    "# Bibliotecas de Modelos de Machine Learning\n",
    "from sklearn.linear_model import LogisticRegression\n",
    "from sklearn.neighbors import KNeighborsClassifier\n",
    "from sklearn.svm import SVC\n",
    "from sklearn.ensemble import RandomForestClassifier\n",
    "from xgboost import XGBClassifier\n",
    "from sklearn.cluster import KMeans\n",
    "from sklearn.decomposition import PCA\n",
    "\n",
    "# Bibliotecas de Métricas de Machine Learning\n",
    "from sklearn.metrics import accuracy_score, roc_auc_score, precision_score, recall_score, f1_score, confusion_matrix, classification_report, silhouette_score\n",
    "\n",
    "\n",
    "# Parâmetros de Otimização\n",
    "import warnings\n",
    "%matplotlib inline\n",
    "sns.set()\n",
    "plt.rcParams['font.family'] = 'Arial'\n",
    "plt.rcParams['font.size'] = '14'\n",
    "plt.rcParams['figure.figsize'] = [10, 5]\n",
    "pd.set_option('display.max_rows', 100)\n",
    "pd.set_option('display.max_columns', 100)\n",
    "pd.set_option('display.float_format', lambda x: '%.2f' % x) # Tira os números do formato de Notação Científica\n",
    "np.set_printoptions(suppress=True) # Tira os números do formato de Notação Científica em Numpy Arrays\n",
    "warnings.filterwarnings('ignore')\n",
    "warnings.simplefilter(action='ignore', category=FutureWarning) # Retira Future Warnings"
   ]
  },
  {
   "attachments": {},
   "cell_type": "markdown",
   "metadata": {},
   "source": [
    "# <font color='red' style='font-size: 40px;'> Funções </font>\n",
    "<hr style='border: 2px solid red;'>"
   ]
  },
  {
   "attachments": {},
   "cell_type": "markdown",
   "metadata": {},
   "source": [
    "## Funções de Visualização"
   ]
  },
  {
   "attachments": {},
   "cell_type": "markdown",
   "metadata": {},
   "source": [
    "* Plota Barras "
   ]
  },
  {
   "cell_type": "code",
   "execution_count": 41,
   "metadata": {},
   "outputs": [],
   "source": [
    "def plota_barras(lista_variaveis, hue, df, linhas, colunas, titulo):\n",
    "    if hue != False:\n",
    "        if (linhas == 1) and (colunas == 1):\n",
    "            k = 0\n",
    "            ax = sns.countplot(x = lista_variaveis[k], data = df, orient = 'h', hue = hue)\n",
    "            ax.set_title(f'{titulo}')\n",
    "            ax.set_xlabel(f'{lista_variaveis[k]}', fontsize = 14)\n",
    "            ax.set_ylabel(f'Quantidade', fontsize = 14)\n",
    "            total = []\n",
    "            for bar in ax.patches:\n",
    "                height = bar.get_height()\n",
    "                total.append(height)\n",
    "            total = builtins.sum(total)\n",
    "            \n",
    "            sizes = []\n",
    "            for bar in ax.patches:\n",
    "                height = bar.get_height()\n",
    "                sizes.append(height)\n",
    "                ax.text(bar.get_x() + bar.get_width()/1.6,\n",
    "                        height,\n",
    "                        f'{builtins.round((height/total)*100, 2)}%',\n",
    "                        ha = 'center',\n",
    "                        fontsize = 12\n",
    "                )\n",
    "            ax.set_ylim(0, builtins.max(sizes)*1.1)\n",
    "            plt.show()\n",
    "        elif linhas == 1:\n",
    "            fig, axis = plt.subplots(linhas, colunas, figsize=(20, 10), sharey=True)\n",
    "            fig.suptitle(f'{titulo}')\n",
    "            k = 0\n",
    "            for i in np.arange(linhas):\n",
    "                for j in np.arange(colunas):\n",
    "                    ax = sns.countplot(x = lista_variaveis[k], data = df, orient = 'h', ax = axis[j], hue = hue)\n",
    "                    ax.set_xlabel(f'{lista_variaveis[k]}', fontsize = 14)\n",
    "                    ax.set_ylabel(f'Quantidade', fontsize = 14)\n",
    "                    total = []\n",
    "                    for bar in ax.patches:\n",
    "                        height = bar.get_height()\n",
    "                        total.append(height)\n",
    "                    total = builtins.sum(total)\n",
    "                    \n",
    "                    sizes = []\n",
    "                    for bar in ax.patches:\n",
    "                        height = bar.get_height()\n",
    "                        sizes.append(height)\n",
    "                        ax.text(bar.get_x() + bar.get_width()/1.6,\n",
    "                                height,\n",
    "                                f'{builtins.round((height/total)*100, 2)}%',\n",
    "                                ha = 'center',\n",
    "                                fontsize = 12\n",
    "                        )\n",
    "                    ax.set_ylim(0, builtins.max(sizes)*1.1)\n",
    "                    k = k + 1\n",
    "        elif colunas == 1:\n",
    "            fig, axis = plt.subplots(linhas, colunas, figsize=(20, 10), sharey=True)\n",
    "            fig.suptitle(f'{titulo}')\n",
    "            k = 0\n",
    "            for i in np.arange(linhas):\n",
    "                for j in np.arange(colunas):\n",
    "                    ax = sns.countplot(x = lista_variaveis[k], data = df, orient = 'h', ax = axis[i], hue = hue)\n",
    "                    ax.set_xlabel(f'{lista_variaveis[k]}', fontsize = 14)\n",
    "                    ax.set_ylabel(f'Quantidade', fontsize = 14)\n",
    "                    total = []\n",
    "                    for bar in ax.patches:\n",
    "                        height = bar.get_height()\n",
    "                        total.append(height)\n",
    "                    total = builtins.sum(total)\n",
    "                    \n",
    "                    sizes = []\n",
    "                    for bar in ax.patches:\n",
    "                        height = bar.get_height()\n",
    "                        sizes.append(height)\n",
    "                        ax.text(bar.get_x() + bar.get_width()/1.6,\n",
    "                                height,\n",
    "                                f'{builtins.round((height/total)*100, 2)}%',\n",
    "                                ha = 'center',\n",
    "                                fontsize = 12\n",
    "                        )\n",
    "                    ax.set_ylim(0, builtins.max(sizes)*1.1)\n",
    "                    k = k + 1\n",
    "        else: \n",
    "            fig, axis = plt.subplots(linhas, colunas, figsize=(20, 10), sharey=True)\n",
    "            fig.suptitle(f'{titulo}')\n",
    "            k = 0\n",
    "            for i in np.arange(linhas):\n",
    "                for j in np.arange(colunas):\n",
    "                    ax = sns.countplot(x = lista_variaveis[k], data = df, orient = 'h', ax = axis[i, j], hue = hue)\n",
    "                    ax.set_xlabel(f'{lista_variaveis[k]}', fontsize = 14)\n",
    "                    ax.set_ylabel(f'Quantidade', fontsize = 14)\n",
    "                    total = []\n",
    "                    for bar in ax.patches:\n",
    "                        height = bar.get_height()\n",
    "                        total.append(height)\n",
    "                    total = builtins.sum(total)\n",
    "                    \n",
    "                    sizes = []\n",
    "                    for bar in ax.patches:\n",
    "                        height = bar.get_height()\n",
    "                        sizes.append(height)\n",
    "                        ax.text(bar.get_x() + bar.get_width()/1.6,\n",
    "                                height,\n",
    "                                f'{builtins.round((height/total)*100, 2)}%',\n",
    "                                ha = 'center',\n",
    "                                fontsize = 12\n",
    "                        )\n",
    "                    ax.set_ylim(0, builtins.max(sizes)*1.1)\n",
    "                    k = k + 1\n",
    "    else:\n",
    "        if (linhas == 1) and (colunas == 1):\n",
    "            k = 0\n",
    "            ax = sns.countplot(x = lista_variaveis[k], data = df, orient = 'h', color='#1FB3E5')\n",
    "            ax.set_title(f'{titulo}')\n",
    "            ax.set_xlabel(f'{lista_variaveis[k]}', fontsize = 14)\n",
    "            ax.set_ylabel(f'Quantidade', fontsize = 14)\n",
    "            total = []\n",
    "            for bar in ax.patches:\n",
    "                height = bar.get_height()\n",
    "                total.append(height)\n",
    "            total = builtins.sum(total)\n",
    "            \n",
    "            sizes = []\n",
    "            for bar in ax.patches:\n",
    "                height = bar.get_height()\n",
    "                sizes.append(height)\n",
    "                ax.text(bar.get_x() + bar.get_width()/1.6,\n",
    "                        height,\n",
    "                        f'{builtins.round((height/total)*100, 2)}%',\n",
    "                        ha = 'center',\n",
    "                        fontsize = 12\n",
    "                )\n",
    "            ax.set_ylim(0, builtins.max(sizes)*1.1)\n",
    "            plt.show()\n",
    "\n",
    "        elif linhas == 1:\n",
    "            fig, axis = plt.subplots(linhas, colunas, figsize=(20, 10), sharey=True)\n",
    "            fig.suptitle(f'{titulo}')\n",
    "            k = 0\n",
    "            for i in np.arange(linhas):\n",
    "                for j in np.arange(colunas):\n",
    "                    ax = sns.countplot(x = lista_variaveis[k], data = df, orient = 'h', ax = axis[j], color='#1FB3E5')\n",
    "                    ax.set_xlabel(f'{lista_variaveis[k]}', fontsize = 14)\n",
    "                    ax.set_ylabel(f'Quantidade', fontsize = 14)\n",
    "                    total = []\n",
    "                    for bar in ax.patches:\n",
    "                        height = bar.get_height()\n",
    "                        total.append(height)\n",
    "                    total = builtins.sum(total)\n",
    "                    \n",
    "                    sizes = []\n",
    "                    for bar in ax.patches:\n",
    "                        height = bar.get_height()\n",
    "                        sizes.append(height)\n",
    "                        ax.text(bar.get_x() + bar.get_width()/1.6,\n",
    "                                height,\n",
    "                                f'{builtins.round((height/total)*100, 2)}%',\n",
    "                                ha = 'center',\n",
    "                                fontsize = 12\n",
    "                        )\n",
    "                    ax.set_ylim(0, builtins.max(sizes)*1.1)\n",
    "                    k = k + 1\n",
    "        elif colunas == 1:\n",
    "            fig, axis = plt.subplots(linhas, colunas, figsize=(20, 10), sharey=True)\n",
    "            fig.suptitle(f'{titulo}')\n",
    "            k = 0\n",
    "            for i in np.arange(linhas):\n",
    "                for j in np.arange(colunas):\n",
    "                    ax = sns.countplot(x = lista_variaveis[k], data = df, orient = 'h', ax = axis[i], color='#1FB3E5')\n",
    "                    ax.set_xlabel(f'{lista_variaveis[k]}', fontsize = 14)\n",
    "                    ax.set_ylabel(f'Quantidade', fontsize = 14)\n",
    "                    total = []\n",
    "                    for bar in ax.patches:\n",
    "                        height = bar.get_height()\n",
    "                        total.append(height)\n",
    "                    total = builtins.sum(total)\n",
    "                    \n",
    "                    sizes = []\n",
    "                    for bar in ax.patches:\n",
    "                        height = bar.get_height()\n",
    "                        sizes.append(height)\n",
    "                        ax.text(bar.get_x() + bar.get_width()/1.6,\n",
    "                                height,\n",
    "                                f'{builtins.round((height/total)*100, 2)}%',\n",
    "                                ha = 'center',\n",
    "                                fontsize = 12\n",
    "                        )\n",
    "                    ax.set_ylim(0, builtins.max(sizes)*1.1)\n",
    "                    k = k + 1\n",
    "        else:\n",
    "            fig, axis = plt.subplots(linhas, colunas, figsize=(20, 10), sharey=True)\n",
    "            fig.suptitle(f'{titulo}')\n",
    "            k = 0\n",
    "            for i in np.arange(linhas):\n",
    "                for j in np.arange(colunas):\n",
    "                    ax = sns.countplot(x = lista_variaveis[k], data = df, orient = 'h', ax = axis[i, j], color='#1FB3E5')\n",
    "                    ax.set_xlabel(f'{lista_variaveis[k]}', fontsize = 14)\n",
    "                    ax.set_ylabel(f'Quantidade', fontsize = 14)\n",
    "                    total = []\n",
    "                    for bar in ax.patches:\n",
    "                        height = bar.get_height()\n",
    "                        total.append(height)\n",
    "                    total = builtins.sum(total)\n",
    "                    \n",
    "                    sizes = []\n",
    "                    for bar in ax.patches:\n",
    "                        height = bar.get_height()\n",
    "                        sizes.append(height)\n",
    "                        ax.text(bar.get_x() + bar.get_width()/1.6,\n",
    "                                height,\n",
    "                                f'{builtins.round((height/total)*100, 2)}%',\n",
    "                                ha = 'center',\n",
    "                                fontsize = 12\n",
    "                        )\n",
    "                    ax.set_ylim(0, builtins.max(sizes)*1.1)\n",
    "                    k = k + 1\n"
   ]
  },
  {
   "attachments": {},
   "cell_type": "markdown",
   "metadata": {},
   "source": [
    "* Plota Histogramas "
   ]
  },
  {
   "cell_type": "code",
   "execution_count": 42,
   "metadata": {},
   "outputs": [],
   "source": [
    "def plota_histograma(lista_variaveis, df, linhas, colunas, titulo):\n",
    "    if (linhas == 1) and (colunas == 1): \n",
    "        k = 0\n",
    "        mediana = df[lista_variaveis[k]].median()\n",
    "        media = df[lista_variaveis[k]].mean().round()\n",
    "        plt.figure(figsize = (14, 7))\n",
    "        ax = sns.histplot(x = lista_variaveis[k], data = df, color = '#1FB3E5', bins = 30)\n",
    "        ax.set_title(f'{titulo}')\n",
    "        ax.set_xlabel(f'{lista_variaveis[k]}', fontsize = 14)\n",
    "        ax.set_ylabel(f'Frequência', fontsize = 14)\n",
    "        ax.axvline(x = mediana, ymax = 0.75 ,color = '#231F20', linestyle = '-', label = f'mediana = {mediana}')\n",
    "        ax.axvline(x = media, ymax = 0.75,color = '#231F20', linestyle = '--', label = f'media = {media}')\n",
    "        plt.ticklabel_format(style='plain')\n",
    "        plt.legend(loc = 'best')\n",
    "        plt.show()\n",
    "    elif linhas == 1:\n",
    "        fig, axis = plt.subplots(linhas, colunas, figsize = (14, 7), sharey = True)\n",
    "        fig.suptitle(f'{titulo}')\n",
    "        k = 0\n",
    "        for i in np.arange(linhas):\n",
    "            for j in np.arange(colunas):\n",
    "                mediana = df[lista_variaveis[k]].median()\n",
    "                media = df[lista_variaveis[k]].mean().round()\n",
    "                ax = sns.histplot(x = lista_variaveis[k], data = df, color = '#1FB3E5', ax = axis[j], bins = 30)\n",
    "                ax.set_xlabel(f'{lista_variaveis[k]}', fontsize = 14)\n",
    "                ax.set_ylabel(f'Frequência', fontsize = 14)\n",
    "                ax.axvline(x = mediana, ymax = 0.75 ,color = '#231F20', linestyle = '-', label = f'mediana = {mediana}')\n",
    "                ax.axvline(x = media, ymax = 0.75,color = '#231F20', linestyle = '--', label = f'media = {media}')\n",
    "                ax.ticklabel_format(style='plain')\n",
    "                ax.legend(loc = 'best')\n",
    "                k = k + 1\n",
    "    elif colunas == 1:\n",
    "        fig, axis = plt.subplots(linhas, colunas, figsize = (14, 7), sharey = True)\n",
    "        fig.suptitle(f'{titulo}')\n",
    "        k = 0\n",
    "        for i in np.arange(linhas):\n",
    "            for j in np.arange(colunas):\n",
    "                mediana = df[lista_variaveis[k]].median()\n",
    "                media = df[lista_variaveis[k]].mean().round()\n",
    "                ax = sns.histplot(x = lista_variaveis[k], data = df, color = '#1FB3E5', ax = axis[i], bins = 30)\n",
    "                ax.set_xlabel(f'{lista_variaveis[k]}', fontsize = 14)\n",
    "                ax.set_ylabel(f'Frequência', fontsize = 14)\n",
    "                ax.axvline(x = mediana, ymax = 0.75 ,color = '#231F20', linestyle = '-', label = f'mediana = {mediana}')\n",
    "                ax.axvline(x = media, ymax = 0.75,color = '#231F20', linestyle = '--', label = f'media = {media}')\n",
    "                ax.ticklabel_format(style='plain')\n",
    "                ax.legend(loc = 'best')\n",
    "                k = k + 1\n",
    "    else:\n",
    "        fig, axis = plt.subplots(linhas, colunas, figsize = (14, 7), sharey = True)\n",
    "        fig.suptitle(f'{titulo}')\n",
    "        k = 0\n",
    "        for i in np.arange(linhas):\n",
    "            for j in np.arange(colunas):\n",
    "                mediana = df[lista_variaveis[k]].median()\n",
    "                media = df[lista_variaveis[k]].mean().round()\n",
    "                ax = sns.histplot(x = lista_variaveis[k], data = df, color = '#1FB3E5', ax = axis[i, j], bins = 30)\n",
    "                ax.set_xlabel(f'{lista_variaveis[k]}', fontsize = 14)\n",
    "                ax.set_ylabel(f'Frequência', fontsize = 14)\n",
    "                ax.axvline(x = mediana, ymax = 0.75 ,color = '#231F20', linestyle = '-', label = f'mediana = {mediana}')\n",
    "                ax.axvline(x = media, ymax = 0.75,color = '#231F20', linestyle = '--', label = f'media = {media}')\n",
    "                ax.ticklabel_format(style='plain')\n",
    "                ax.legend(loc = 'best')\n",
    "                k = k + 1"
   ]
  },
  {
   "attachments": {},
   "cell_type": "markdown",
   "metadata": {},
   "source": [
    "* Plota Boxplot"
   ]
  },
  {
   "cell_type": "code",
   "execution_count": 43,
   "metadata": {},
   "outputs": [],
   "source": [
    "def plota_boxplot(lista_variaveis, df, linhas, colunas, titulo):\n",
    "    if (linhas == 1) and (colunas == 1): \n",
    "        k = 0\n",
    "        plt.figure(figsize = (14, 7))\n",
    "        ax = sns.boxplot(x = lista_variaveis[k], data = df, color = '#1FB3E5', orient = 'h')\n",
    "        ax.set_title(f'{titulo}')\n",
    "        ax.set_xlabel(f'{lista_variaveis[k]}', fontsize = 14)\n",
    "        ax.set_ylabel(f'Frequência', fontsize = 14)\n",
    "        plt.show()\n",
    "    elif linhas == 1:\n",
    "        fig, axis = plt.subplots(linhas, colunas, figsize = (14, 4), sharey = True)\n",
    "        k = 0\n",
    "        for i in np.arange(linhas):\n",
    "            for j in np.arange(colunas):\n",
    "                ax = sns.boxplot(x = lista_variaveis[k], data = df, color = '#1FB3E5', ax = axis[j], orient = 'h')\n",
    "                ax.set_title(f'{titulo}')\n",
    "                ax.set_xlabel(f'{lista_variaveis[k]}', fontsize = 14)\n",
    "                ax.set_ylabel(f'Frequência', fontsize = 14)\n",
    "                k = k + 1\n",
    "    elif colunas == 1:\n",
    "        fig, axis = plt.subplots(linhas, colunas, figsize = (14, 4), sharey = True)\n",
    "        k = 0\n",
    "        for i in np.arange(linhas):\n",
    "            for j in np.arange(colunas):\n",
    "                ax = sns.boxplot(x = lista_variaveis[k], data = df, color = '#1FB3E5', ax = axis[i], orient = 'h')\n",
    "                ax.set_title(f'{titulo}')\n",
    "                ax.set_xlabel(f'{lista_variaveis[k]}', fontsize = 14)\n",
    "                ax.set_ylabel(f'Frequência', fontsize = 14)\n",
    "                k = k + 1\n",
    "    else:\n",
    "        fig, axis = plt.subplots(linhas, colunas, figsize = (14, 4), sharey = True)\n",
    "        k = 0\n",
    "        for i in np.arange(linhas):\n",
    "            for j in np.arange(colunas):\n",
    "                ax = sns.boxplot(x = lista_variaveis[k], data = df, color = '#1FB3E5', ax = axis[i, j], orient = 'h')\n",
    "                ax.set_title(f'{titulo}')\n",
    "                ax.set_xlabel(f'{lista_variaveis[k]}', fontsize = 14)\n",
    "                ax.set_ylabel(f'Frequência', fontsize = 14)\n",
    "                k = k + 1"
   ]
  },
  {
   "attachments": {},
   "cell_type": "markdown",
   "metadata": {},
   "source": [
    "* Plota Dispersão"
   ]
  },
  {
   "cell_type": "code",
   "execution_count": 44,
   "metadata": {},
   "outputs": [],
   "source": [
    "def plota_dispersao(df, titulo,  x, y, metodo):\n",
    "    plt.figure(figsize = (10, 5))\n",
    "    sns.set(style = 'whitegrid')\n",
    "    corr1 = str(df[[x, y]].corr(method = metodo).iloc[1, 0].round(2))\n",
    "    sns.scatterplot(data = df, x = x, y = y, color = '#1FB3E5', sizes = 1, alpha = 0.50, marker = '.')\n",
    "    plt.text(1, 1, f'Correlacao: {corr1}', fontsize = 12)\n",
    "    plt.title(f'{titulo}', fontsize = 14)\n",
    "    plt.xlabel(f'{x}', fontsize = 14)\n",
    "    plt.ylabel(f'{y}', fontsize = 14)\n",
    "    plt.ticklabel_format(style = 'plain')\n",
    "    plt.grid(True, linestyle=':')\n",
    "    sns.despine()\n",
    "    plt.tight_layout()\n",
    "    plt.show()"
   ]
  },
  {
   "attachments": {},
   "cell_type": "markdown",
   "metadata": {},
   "source": [
    "## Funções de Estatística"
   ]
  },
  {
   "attachments": {},
   "cell_type": "markdown",
   "metadata": {},
   "source": [
    "* Analisa Correlação"
   ]
  },
  {
   "cell_type": "code",
   "execution_count": 45,
   "metadata": {},
   "outputs": [],
   "source": [
    "def analisa_correlacao(metodo, df):\n",
    "    plt.figure(figsize = (10, 5))\n",
    "    sns.heatmap(df.corr(method = metodo), vmin = -1, vmax = 1, cmap = 'magma', annot = True)\n",
    "    plt.title(f\"Analisando Correlação de {metodo}\")\n",
    "    plt.grid(False)\n",
    "    plt.box(False)\n",
    "    plt.tight_layout()\n",
    "    plt.grid(False)\n",
    "    plt.show()"
   ]
  },
  {
   "attachments": {},
   "cell_type": "markdown",
   "metadata": {},
   "source": [
    "* Analisa Normalidade "
   ]
  },
  {
   "cell_type": "code",
   "execution_count": 46,
   "metadata": {},
   "outputs": [],
   "source": [
    "def analisa_normalidade(amostra1, amostra2, variavel):\n",
    "\n",
    "    normaltest_amostra_1 = normaltest(amostra1[variavel])\n",
    "    normaltest_amostra_2 = normaltest(amostra2[variavel])\n",
    "\n",
    "    if (normaltest_amostra_1[1] < 0.05 ) and (normaltest_amostra_2[1] < 0.05):\n",
    "        print(f'Pelo Teste de Hipótese, A Hipótese Nula de que a variável \"{variavel}\" segue uma Distribuição Normal é REJEITADA!')\n",
    "    else:\n",
    "        print(f'Pelo Teste de Hipótese, A Hipótese Nula de  que a variável \"{variavel}\" segue uma Distribuição Normal é ACEITA')\n",
    "\n",
    "    ax1 = plt.subplot(121)\n",
    "    stats.probplot(amostra1[variavel], dist = 'norm', plot = plt)\n",
    "    plt.title(f'Amostra 1', fontsize = 14)\n",
    "    plt.grid(False)\n",
    "    plt.box(False)\n",
    "    plt.tight_layout()\n",
    "    ax1 = plt.subplot(122)\n",
    "    stats.probplot(amostra2[variavel], dist = 'norm', plot = plt)\n",
    "    plt.title(f'Amostra 2', fontsize = 14)\n",
    "    plt.grid(False)\n",
    "    plt.box(False)\n",
    "    plt.tight_layout()\n",
    "\n",
    "    plt.show()"
   ]
  },
  {
   "attachments": {},
   "cell_type": "markdown",
   "metadata": {},
   "source": [
    "* Teste de Hipótese para Duas Amostras Independentes "
   ]
  },
  {
   "cell_type": "code",
   "execution_count": 47,
   "metadata": {},
   "outputs": [],
   "source": [
    "def teste_hipotese_duas_amostras_independentes(parametrico, amostra1, amostra2, variavel):\n",
    "    media_amostra_1 = amostra1[variavel].mean()\n",
    "    media_amostra_2 = amostra2[variavel].mean()\n",
    "    mediana_amostra_1 = amostra1[variavel].median()\n",
    "    mediana_amostra_2 = amostra2[variavel].median()\n",
    "\n",
    "    if parametrico == True: \n",
    "        print(f'Média Amostra 1: {media_amostra_1}')\n",
    "        print(f'Média Amostra 2: {media_amostra_2}')\n",
    "        stat, p_value = ztest(amostra1[variavel], amostra2[variavel]) \n",
    "        if p_value > 0.05:\n",
    "            print(f'Pelo Teste de Hipótese Z, não há diferença significativa entre as médias da Amostra 1 e Amostra 2')\n",
    "        else:\n",
    "            print(f'Pelo Teste de Hipótese Z, há diferença significativa entre as médias da Amostra 1 e Amostra 2')\n",
    "    else:\n",
    "        print(f'Mediana Amostra 1: {mediana_amostra_1}')\n",
    "        print(f'Mediana Amostra 2: {mediana_amostra_2}')\n",
    "        stat, p_value = stats.mannwhitneyu(amostra1[variavel], amostra2[variavel]) \n",
    "        if p_value > 0.05:\n",
    "            print(f'Pelo Teste de Hipótese de Mann Whitney, não há diferença significativa entre as medianas da Amostra 1 e Amostra 2')\n",
    "        else:\n",
    "            print(f'Pelo Teste de Hipótese de Mann Whitney, há diferença significativa entre as medianas da Amostra 1 e Amostra 2')"
   ]
  },
  {
   "attachments": {},
   "cell_type": "markdown",
   "metadata": {},
   "source": [
    "- Teste de Hipótese para Muitas Amostras Independentes "
   ]
  },
  {
   "cell_type": "code",
   "execution_count": 48,
   "metadata": {},
   "outputs": [],
   "source": [
    "def teste_hipotese_muitas_amostras_independentes(amostras, variavel):\n",
    "    medianas = []\n",
    "    \n",
    "    for i, amostra in enumerate(amostras):\n",
    "        mediana_amostra = amostra[variavel].median()\n",
    "        medianas.append(mediana_amostra)\n",
    "        print(f'Mediana Amostra {i+1}: {mediana_amostra}')\n",
    "\n",
    "    stat, p_value = kruskal(*[amostra[variavel] for amostra in amostras])\n",
    "    \n",
    "    if p_value > 0.05:\n",
    "        print(f'Pelo teste de Kruskal-Wallis, não há diferença significativa entre as medianas das amostras')\n",
    "    else:\n",
    "        print(f'Pelo teste de Kruskal-Wallis, há diferença significativa entre as medianas das amostras')\n"
   ]
  },
  {
   "attachments": {},
   "cell_type": "markdown",
   "metadata": {},
   "source": [
    "## Funções de Pré-Processamento"
   ]
  },
  {
   "attachments": {},
   "cell_type": "markdown",
   "metadata": {},
   "source": [
    "* Separa entre Features e Target "
   ]
  },
  {
   "cell_type": "code",
   "execution_count": 49,
   "metadata": {},
   "outputs": [],
   "source": [
    "def separa_feature_target(target, dados):\n",
    "    x = dados.drop(target, axis = 1)\n",
    "    y = dados[[target]]\n",
    "\n",
    "    return x, y"
   ]
  },
  {
   "attachments": {},
   "cell_type": "markdown",
   "metadata": {},
   "source": [
    "* Separa entre Treino e Teste"
   ]
  },
  {
   "cell_type": "code",
   "execution_count": 50,
   "metadata": {},
   "outputs": [],
   "source": [
    "def separa_treino_teste(target, dados, size):\n",
    "    x = dados.drop(target, axis = 1)\n",
    "    y = dados[target]\n",
    "    x_train, x_test, y_train, y_test = train_test_split(x, y, test_size= size, random_state = 42)\n",
    "\n",
    "    df_train = pd.concat([x_train, y_train], axis = 1)\n",
    "    df_test = pd.concat([x_test, y_test], axis = 1)\n",
    "\n",
    "    return df_train, df_test"
   ]
  },
  {
   "attachments": {},
   "cell_type": "markdown",
   "metadata": {},
   "source": [
    "- Discretização"
   ]
  },
  {
   "cell_type": "code",
   "execution_count": 51,
   "metadata": {},
   "outputs": [],
   "source": [
    "def discretiza_variavel(df, variavel_quant, variavel_qualit, bins, labels, right):\n",
    "    df[variavel_qualit] = pd.cut(\n",
    "        df[variavel_quant], \n",
    "        bins= bins, \n",
    "        labels= labels, \n",
    "        right = right\n",
    "    )\n",
    "    df.drop(variavel_quant, axis = 1, inplace = True)"
   ]
  },
  {
   "attachments": {},
   "cell_type": "markdown",
   "metadata": {},
   "source": [
    "## Funções de Métricas ou Avaliação"
   ]
  },
  {
   "attachments": {},
   "cell_type": "markdown",
   "metadata": {},
   "source": [
    "* Métricas Gerais"
   ]
  },
  {
   "cell_type": "code",
   "execution_count": 52,
   "metadata": {},
   "outputs": [],
   "source": [
    "def metricas_classificacao(classificador, y_train, y_predict_train, y_test, y_predict_test):\n",
    "    accuracy = accuracy_score(y_train, y_predict_train)\n",
    "    precision = precision_score(y_train, y_predict_train)\n",
    "    recall = recall_score(y_train, y_predict_train)\n",
    "    f1 = f1_score(y_train, y_predict_train)\n",
    "    roc_curve = roc_auc_score(y_train, y_predict_train)\n",
    "    metricas_treino = pd.DataFrame({'Acuracia':accuracy, 'Precisao':precision, 'Recall':recall, 'F1':f1, 'Roc_Curve':roc_curve, 'Etapa':'treino','Classificador':classificador}, index = np.arange(1))\n",
    "    \n",
    "    accuracy = accuracy_score(y_test, y_predict_test)\n",
    "    precision = precision_score(y_test, y_predict_test)\n",
    "    recall = recall_score(y_test, y_predict_test)\n",
    "    f1 = f1_score(y_test, y_predict_test)\n",
    "    roc_curve = roc_auc_score(y_test, y_predict_test)\n",
    "    metricas_teste = pd.DataFrame({'Acuracia':accuracy, 'Precisao':precision, 'Recall':recall, 'F1':f1, 'Roc_Curve':roc_curve, 'Etapa':'teste','Classificador':classificador}, index = np.arange(1, 2))\n",
    "    metricas_finais = pd.concat([metricas_treino, metricas_teste])\n",
    "    return metricas_finais\n",
    "\n",
    "def metricas_classificacao_modelos_juntos(lista_modelos):\n",
    "    metricas_modelos = pd.concat(lista_modelos).set_index('Classificador')\n",
    "    return metricas_modelos"
   ]
  },
  {
   "attachments": {},
   "cell_type": "markdown",
   "metadata": {},
   "source": [
    "* Validação Cruzada "
   ]
  },
  {
   "cell_type": "code",
   "execution_count": 53,
   "metadata": {},
   "outputs": [],
   "source": [
    "def validacao_cruzada_classificacao(target_type, x_train, y_train, n_splits, classificador):\n",
    "    categoricas = [column for column in x_train.columns if x_train[column].dtype.name == 'object']\n",
    "    numericas = [column for column in x_train.columns if (x_train[column].dtype.name == 'int') or (x_train[column].dtype.name == 'float')]\n",
    "    \n",
    "    pipeline_categoricas = Pipeline([\n",
    "        ('imputer', SimpleImputer(strategy='constant', fill_value='missing')),\n",
    "        ('encoder', BinaryEncoder(handle_unknown='ignore', sparse=False))\n",
    "    ])\n",
    "    \n",
    "    pipeline_numericas = Pipeline([\n",
    "        ('imputer', SimpleImputer(strategy='median')),\n",
    "        ('scaler', MinMaxScaler())\n",
    "    ])\n",
    "    \n",
    "    pre_processamento = ColumnTransformer([\n",
    "        ('cat', pipeline_categoricas, categoricas),\n",
    "        ('num', pipeline_numericas, numericas)\n",
    "    ])\n",
    "    \n",
    "    if target_type == 'categorico':\n",
    "        y_train.fillna(y_train.mode()[0], inplace=True)\n",
    "    else:\n",
    "        y_train.fillna(y_train.median(), inplace=True)\n",
    "    \n",
    "    kfold = KFold(n_splits=n_splits, shuffle=True, random_state=42)\n",
    "    \n",
    "    if classificador == 'Regressão Logística':\n",
    "        model = make_pipeline(pre_processamento, LogisticRegression(random_state=42, class_weight={0: 1, 1: 3}))\n",
    "    elif classificador == 'KNN':\n",
    "        model = make_pipeline(pre_processamento, KNeighborsClassifier())\n",
    "    elif classificador == 'SVC':\n",
    "        model = make_pipeline(pre_processamento, SVC(random_state=42, kernel='linear', C=0.05, class_weight={0: 1, 1: 3}))\n",
    "    elif classificador == 'Random Forest':\n",
    "        model = make_pipeline(pre_processamento, RandomForestClassifier(random_state=42, criterion='entropy', n_estimators=100, max_depth=7, class_weight={0: 1, 1: 3}))\n",
    "    elif classificador == 'Gradient Boosting':\n",
    "        model = make_pipeline(pre_processamento, GradientBoostingClassifier(random_state=42))\n",
    "    elif classificador == 'XGBoost':\n",
    "        model = make_pipeline(pre_processamento, XGBClassifier(random_state=42, n_estimators=200, max_depth=2, learning_rate=0.8, eval_metric='logloss', objective='binary:logistic', scale_pos_weight=3))\n",
    "    else:\n",
    "        print('Utilize Regressão Logística, KNN, SVC, Random Forest, Gradient Boosting, ou XGBoost como opções de Classificadores!')\n",
    "\n",
    "    accuracy = cross_val_score(model, x_train, y_train, cv=kfold, scoring='accuracy').mean()\n",
    "    precision = cross_val_score(model, x_train, y_train, cv=kfold, scoring='precision').mean()\n",
    "    recall = cross_val_score(model, x_train, y_train, cv=kfold, scoring='recall').mean()\n",
    "    f1 = cross_val_score(model, x_train, y_train, cv=kfold, scoring='f1').mean()\n",
    "    roc_curve = cross_val_score(model, x_train, y_train, cv=kfold, scoring='roc_auc').mean()\n",
    "    \n",
    "    metricas_finais = pd.DataFrame({'Acuracia': accuracy,\n",
    "                                    'Precisao': precision,\n",
    "                                    'Recall': recall,\n",
    "                                    'F1': f1,\n",
    "                                    'Roc_Curve':roc_curve, \n",
    "                                    'Etapa':'validacao_cruzada',\n",
    "                                    'Classificador':classificador}, \n",
    "                                    index = np.arange(1, 2))\n",
    "    return metricas_finais"
   ]
  },
  {
   "attachments": {},
   "cell_type": "markdown",
   "metadata": {},
   "source": [
    "- Ganhos e Perdas "
   ]
  },
  {
   "cell_type": "code",
   "execution_count": 54,
   "metadata": {},
   "outputs": [],
   "source": [
    "def ganhos_e_perdas(dados):\n",
    "    customer_ids = dados['customer_id']\n",
    "    mediana_valores_recebidos_churn = dados.loc[dados.churn_label == 1]['total_charges'].median()\n",
    "    y = dados['churn_label']\n",
    "    y_predict = dados['churn_label_predict']\n",
    "\n",
    "    accuracy = accuracy_score(y, y_predict)\n",
    "    precision = precision_score(y, y_predict)\n",
    "    recall = recall_score(y, y_predict)\n",
    "    f1 = f1_score(y, y_predict)\n",
    "    roc_curve = roc_auc_score(y, y_predict)\n",
    "\n",
    "    matriz_confusao = confusion_matrix(y, y_predict)\n",
    "    matriz_custo_beneficios = np.array([[0, 100], \n",
    "                                       [mediana_valores_recebidos_churn, mediana_valores_recebidos_churn]])\n",
    "\n",
    "\n",
    "    resultados_esperados = 'R$' + str(matriz_confusao[0, 0]*matriz_custo_beneficios[0, 0]-matriz_confusao[0, 1]*matriz_custo_beneficios[0, 1]-matriz_confusao[1, 0]*matriz_custo_beneficios[1, 0]+matriz_confusao[1, 1]*matriz_custo_beneficios[1, 1])\n",
    "    \n",
    "    return matriz_confusao, matriz_custo_beneficios, resultados_esperados"
   ]
  },
  {
   "attachments": {},
   "cell_type": "markdown",
   "metadata": {},
   "source": [
    "## Funções de Machine Learning"
   ]
  },
  {
   "attachments": {},
   "cell_type": "markdown",
   "metadata": {},
   "source": [
    "* Definição do Número de Clusters pelo Elbow Method"
   ]
  },
  {
   "cell_type": "code",
   "execution_count": 55,
   "metadata": {},
   "outputs": [],
   "source": [
    "def elbow_method(data, features):\n",
    "    scaler = StandardScaler()\n",
    "    padronizado = scaler.fit_transform(data[features])\n",
    "\n",
    "    wcss = []\n",
    "    for n_clusters in range(1, 11):\n",
    "        kmeans = KMeans(n_clusters=n_clusters, init='k-means++', random_state=42, max_iter=300)\n",
    "        kmeans.fit(padronizado)\n",
    "        wcss.append(kmeans.inertia_)\n",
    "\n",
    "    plt.figure(figsize=(10, 6))\n",
    "    sns.lineplot(range(1, 11), wcss, marker='o', color='orange')\n",
    "    plt.title('O Método Elbow', fontsize=16, fontweight='bold')\n",
    "    plt.xlabel('Número de Clusters', fontsize=12)\n",
    "    plt.ylabel('WCSS (Soma dos Quadrados das Distâncias)', fontsize=12)\n",
    "    plt.xticks(range(1, 11))\n",
    "    plt.yticks(fontsize=10)\n",
    "    plt.grid(True, linestyle='--', linewidth=0.5)\n",
    "    plt.tight_layout()\n",
    "    plt.show()\n"
   ]
  },
  {
   "attachments": {},
   "cell_type": "markdown",
   "metadata": {},
   "source": [
    "* Algoritmo de Clusterização"
   ]
  },
  {
   "cell_type": "code",
   "execution_count": 56,
   "metadata": {},
   "outputs": [],
   "source": [
    "def kmeans_esc(data, features , n_clusters):\n",
    "\n",
    "    scaler = StandardScaler()\n",
    "    padronizado = scaler.fit_transform(data[features])\n",
    "\n",
    "    kmeans = KMeans(n_clusters = n_clusters, init = 'k-means++', random_state = 42, max_iter = 300)\n",
    "    kmeans = kmeans.fit(padronizado)\n",
    "    \n",
    "    clusters = kmeans.labels_ # Clusters para cada um dos registros \n",
    "\n",
    "    return clusters"
   ]
  },
  {
   "attachments": {},
   "cell_type": "markdown",
   "metadata": {},
   "source": [
    "* Reordenando Clusters"
   ]
  },
  {
   "cell_type": "code",
   "execution_count": 57,
   "metadata": {},
   "outputs": [],
   "source": [
    "def ordenador_de_cluster(metodo_cluster, variavel, ordem, dados):\n",
    "\n",
    "    media_cluster = dados.groupby(metodo_cluster, as_index = False)[variavel].mean()\n",
    "    score_cluster = media_cluster.sort_values(by = variavel, ascending = ordem)\n",
    "    score_cluster['index'] = media_cluster.index \n",
    "\n",
    "    df_final = dados.merge(score_cluster[[metodo_cluster, 'index']], on = metodo_cluster)\n",
    "    df_final.drop(metodo_cluster, axis = 1, inplace = True)\n",
    "    df_final.rename({'index':metodo_cluster}, axis = 1, inplace = True)\n",
    "\n",
    "\n",
    "    return df_final\n"
   ]
  },
  {
   "attachments": {},
   "cell_type": "markdown",
   "metadata": {},
   "source": [
    "* Regressão Logística "
   ]
  },
  {
   "cell_type": "code",
   "execution_count": 58,
   "metadata": {},
   "outputs": [],
   "source": [
    "def regressao_logistica(target_type, x_train, y_train, x_test, y_test, otimizacao):\n",
    "    # x_train.reset_index(drop=True, inplace=True)\n",
    "    # y_train.reset_index(drop=True, inplace=True)\n",
    "\n",
    "    categoricas = [column for column in x_train.columns if x_train[column].dtype.name == 'object']\n",
    "    numericas = [column for column in x_train.columns if (x_train[column].dtype.name == 'int64') or (x_train[column].dtype.name == 'float64')]\n",
    "    \n",
    "    pipeline_categoricas = Pipeline([\n",
    "        ('imputer', SimpleImputer(strategy='constant', fill_value='missing')),\n",
    "        ('encoder', BinaryEncoder())\n",
    "    ])\n",
    "    \n",
    "    pipeline_numericas = Pipeline([\n",
    "        ('imputer', SimpleImputer(strategy='median')),\n",
    "        ('scaler', StandardScaler())\n",
    "    ])\n",
    "    \n",
    "    pipeline_pre_processamento = ColumnTransformer([\n",
    "        ('cat', pipeline_categoricas, categoricas),\n",
    "        ('num', pipeline_numericas, numericas)\n",
    "    ])\n",
    "\n",
    "    if otimizacao == True:\n",
    "        pipeline_feature_selection = Pipeline([\n",
    "            ('variance_threshold', VarianceThreshold(threshold=0.01)),\n",
    "            ('select_k_best', SelectKBest(score_func=f_regression)),\n",
    "        ])\n",
    "        pipeline_optimal_hiperparams = Pipeline([\n",
    "            ('random_search', RandomizedSearchCV(\n",
    "                estimator = LogisticRegression(),\n",
    "                param_grid = {'feature_selection__select_k_best__k': range(1, 10), 'model__C': [0.1, 1.0, 10.0], 'model__class_weight': [{0: 1, 1: 3}, {0: 1, 1: 9}]},\n",
    "                scoring='accuracy',\n",
    "                cv=5,\n",
    "                n_iter=10,\n",
    "                n_jobs=-1\n",
    "            ))\n",
    "        ])\n",
    "        pipeline = Pipeline([\n",
    "            ('pre_processing', pipeline_pre_processamento),\n",
    "            ('feature_selection', pipeline_feature_selection),\n",
    "            ('optimal_hiperparams', pipeline_optimal_hiperparams)\n",
    "        ])\n",
    "\n",
    "        model = pipeline.fit(x_train, y_train)\n",
    "\n",
    "    else:\n",
    "        pipeline = Pipeline([\n",
    "            ('pre_processing', pipeline_pre_processamento)\n",
    "        ])\n",
    "\n",
    "        model = make_pipeline(pipeline, LogisticRegression(random_state=42))\n",
    "        model.fit(x_train, y_train)\n",
    "\n",
    "    y_predict_train = model.predict(x_train)\n",
    "    y_predict_test = model.predict(x_test)\n",
    "    \n",
    "\n",
    "    return y_predict_train, y_predict_test\n"
   ]
  },
  {
   "attachments": {},
   "cell_type": "markdown",
   "metadata": {},
   "source": [
    "- KNN "
   ]
  },
  {
   "cell_type": "code",
   "execution_count": 59,
   "metadata": {},
   "outputs": [],
   "source": [
    "def classifiacao_knn(target_type, x_train, y_train, x_test, y_test, otimizacao):\n",
    "    # x_train.reset_index(drop=True, inplace=True)\n",
    "    # y_train.reset_index(drop=True, inplace=True)\n",
    "\n",
    "    categoricas = [column for column in x_train.columns if x_train[column].dtype.name == 'object']\n",
    "    numericas = [column for column in x_train.columns if (x_train[column].dtype.name == 'int64') or (x_train[column].dtype.name == 'float64')]\n",
    "    \n",
    "    pipeline_categoricas = Pipeline([\n",
    "        ('imputer', SimpleImputer(strategy='constant', fill_value='missing')),\n",
    "        ('encoder', BinaryEncoder())\n",
    "    ])\n",
    "    \n",
    "    pipeline_numericas = Pipeline([\n",
    "        ('imputer', SimpleImputer(strategy='median')),\n",
    "        ('scaler', StandardScaler())\n",
    "    ])\n",
    "    \n",
    "    pipeline_pre_processamento = ColumnTransformer([\n",
    "        ('cat', pipeline_categoricas, categoricas),\n",
    "        ('num', pipeline_numericas, numericas)\n",
    "    ])\n",
    "\n",
    "    if otimizacao == True:\n",
    "        pipeline_feature_selection = Pipeline([\n",
    "            ('variance_threshold', VarianceThreshold(threshold=0.01)),\n",
    "            ('select_k_best', SelectKBest(score_func=f_regression)),\n",
    "        ])\n",
    "        pipeline_optimal_hiperparams = Pipeline([\n",
    "            ('random_search', RandomizedSearchCV(\n",
    "                estimator=KNeighborsClassifier(),\n",
    "                param_distributions={'feature_selection__select_k_best__k': range(1, 10), 'model__n_neighbors': [3, 5, 7], 'model__class_weight': [{0: 1, 1: 3}, {0: 1, 1: 9}]},\n",
    "                scoring='accuracy',\n",
    "                cv=5,\n",
    "                n_iter=10,\n",
    "                n_jobs=-1\n",
    "            ))\n",
    "        ])\n",
    "        pipeline = Pipeline([\n",
    "            ('pre_processing', pipeline_pre_processamento),\n",
    "            ('feature_selection', pipeline_feature_selection),\n",
    "            ('optimal_hiperparams', pipeline_optimal_hiperparams)\n",
    "        ])\n",
    "\n",
    "        model = pipeline.fit(x_train, y_train)\n",
    "\n",
    "    else:\n",
    "        pipeline = Pipeline([\n",
    "            ('pre_processing', pipeline_pre_processamento)\n",
    "        ])\n",
    "\n",
    "        model = make_pipeline(pipeline, KNeighborsClassifier(random_state=42))\n",
    "        model.fit(x_train, y_train)\n",
    "    \n",
    "    y_predict_train = model.predict(x_train)\n",
    "    y_predict_test = model.predict(x_test)\n",
    "    \n",
    "    return y_predict_train, y_predict_test\n"
   ]
  },
  {
   "attachments": {},
   "cell_type": "markdown",
   "metadata": {},
   "source": [
    "* SVC "
   ]
  },
  {
   "cell_type": "code",
   "execution_count": 60,
   "metadata": {},
   "outputs": [],
   "source": [
    "def classificacao_svm(target_type, x_train, y_train, x_test, y_test, otimizacao):\n",
    "    # x_train.reset_index(drop=True, inplace=True)\n",
    "    # y_train.reset_index(drop=True, inplace=True)\n",
    "\n",
    "    categoricas = [column for column in x_train.columns if x_train[column].dtype.name == 'object']\n",
    "    numericas = [column for column in x_train.columns if (x_train[column].dtype.name == 'int64') or (x_train[column].dtype.name == 'float64')]\n",
    "    \n",
    "    pipeline_categoricas = Pipeline([\n",
    "        ('imputer', SimpleImputer(strategy='constant', fill_value='missing')),\n",
    "        ('encoder', BinaryEncoder())\n",
    "    ])\n",
    "    \n",
    "    pipeline_numericas = Pipeline([\n",
    "        ('imputer', SimpleImputer(strategy='median')),\n",
    "        ('scaler', StandardScaler())\n",
    "    ])\n",
    "    \n",
    "    pipeline_pre_processamento = ColumnTransformer([\n",
    "        ('cat', pipeline_categoricas, categoricas),\n",
    "        ('num', pipeline_numericas, numericas)\n",
    "    ])\n",
    "\n",
    "    if otimizacao == True:\n",
    "        pipeline_feature_selection = Pipeline([\n",
    "            ('variance_threshold', VarianceThreshold(threshold=0.01)),\n",
    "            ('select_k_best', SelectKBest(score_func=f_regression)),\n",
    "        ])\n",
    "        pipeline_optimal_hiperparams = Pipeline([\n",
    "            ('random_search', RandomizedSearchCV(\n",
    "                estimator=SVC(random_state=42, class_weight = {0: 1, 1: 9}),\n",
    "                param_distributions={'feature_selection__select_k_best__k': range(1, 10), 'model__C': [0.1, 1.0, 10.0], 'model__kernel': ['linear', 'rbf'], 'model__class_weight': [{0: 1, 1: 3}, {0: 1, 1: 9}]},\n",
    "                scoring='accuracy',\n",
    "                cv=5,\n",
    "                n_iter=10,\n",
    "                n_jobs=-1\n",
    "            ))\n",
    "        ])\n",
    "        pipeline = Pipeline([\n",
    "            ('pre_processing', pipeline_pre_processamento),\n",
    "            ('feature_selection', pipeline_feature_selection),\n",
    "            ('optimal_hiperparams', pipeline_optimal_hiperparams)\n",
    "        ])\n",
    "\n",
    "        model = pipeline.fit(x_train, y_train)\n",
    "\n",
    "    else:\n",
    "        pipeline = Pipeline([\n",
    "            ('pre_processing', pipeline_pre_processamento)\n",
    "        ])\n",
    "\n",
    "        model = make_pipeline(pipeline, SVC(random_state=42))\n",
    "        model.fit(x_train, y_train)\n",
    "    \n",
    "    y_predict_train = model.predict(x_train)\n",
    "    y_predict_test = model.predict(x_test)\n",
    "\n",
    "    return y_predict_train, y_predict_test\n"
   ]
  },
  {
   "attachments": {},
   "cell_type": "markdown",
   "metadata": {},
   "source": [
    "* Random Forest "
   ]
  },
  {
   "cell_type": "code",
   "execution_count": 61,
   "metadata": {},
   "outputs": [],
   "source": [
    "def classificacao_random_forest(target_type, x_train, y_train, x_test, y_test, otimizacao):\n",
    "    categoricas = [column for column in x_train.columns if x_train[column].dtype.name == 'object']\n",
    "    numericas = [column for column in x_train.columns if (x_train[column].dtype.name == 'int64') or (x_train[column].dtype.name == 'float64')]\n",
    "    \n",
    "    pipeline_categoricas = Pipeline([\n",
    "        ('imputer', SimpleImputer(strategy='constant', fill_value='missing')),\n",
    "        ('encoder', BinaryEncoder())\n",
    "    ])\n",
    "    \n",
    "    pipeline_numericas = Pipeline([\n",
    "        ('imputer', SimpleImputer(strategy='median'))\n",
    "    ])\n",
    "    \n",
    "    pipeline_pre_processamento = ColumnTransformer([\n",
    "        ('cat', pipeline_categoricas, categoricas),\n",
    "        ('num', pipeline_numericas, numericas)\n",
    "    ])\n",
    "\n",
    "    if otimizacao == True:\n",
    "        pipeline_feature_selection = Pipeline([\n",
    "            ('variance_threshold', VarianceThreshold(threshold=0.01)),\n",
    "            ('select_k_best', SelectKBest(score_func=f_regression)),\n",
    "        ])\n",
    "        pipeline_optimal_hiperparams = Pipeline([\n",
    "            ('random_search', RandomizedSearchCV(\n",
    "                estimator=RandomForestClassifier(random_state=42),\n",
    "                param_distributions={'feature_selection__select_k_best__k': range(1, 10), 'model__n_estimators': [50, 100, 150], 'model__max_depth': [5, 10, 15], 'model__class_weight': [{0: 1, 1: 3}, {0: 1, 1: 9}]},\n",
    "                scoring='accuracy',\n",
    "                cv=5,\n",
    "                n_iter=10,\n",
    "                n_jobs=-1\n",
    "            ))\n",
    "        ])\n",
    "        pipeline = Pipeline([\n",
    "            ('pre_processing', pipeline_pre_processamento),\n",
    "            ('feature_selection', pipeline_feature_selection),\n",
    "            ('optimal_hiperparams', pipeline_optimal_hiperparams)\n",
    "        ])\n",
    "\n",
    "        model = pipeline.fit(x_train, y_train)\n",
    "\n",
    "    else:\n",
    "        pipeline = Pipeline([\n",
    "            ('pre_processing', pipeline_pre_processamento)\n",
    "        ])\n",
    "\n",
    "        model = make_pipeline(pipeline, RandomForestClassifier(n_estimators=100, max_depth=10, random_state=42))\n",
    "        model.fit(x_train, y_train)\n",
    "    \n",
    "    y_predict_train = model.predict(x_train)\n",
    "    y_predict_test = model.predict(x_test)\n",
    "    \n",
    "    feature_importance = model.named_steps['randomforestclassifier'].feature_importances_\n",
    "    feature_names = x_train.columns\n",
    "    \n",
    "    importance_dict = dict(zip(feature_names, feature_importance))\n",
    "    sorted_importance = sorted(importance_dict.items(), key=lambda x: x[1], reverse=True)\n",
    "    sorted_importance = pd.DataFrame(sorted_importance).rename({0:'feature', 1:'feature_importance'}, axis=1)\n",
    "\n",
    "    return y_predict_train, y_predict_test, sorted_importance\n"
   ]
  },
  {
   "attachments": {},
   "cell_type": "markdown",
   "metadata": {},
   "source": [
    "- XGBoost"
   ]
  },
  {
   "cell_type": "code",
   "execution_count": 62,
   "metadata": {},
   "outputs": [],
   "source": [
    "def classificacao_xgboost(target_type, x_train, y_train, x_test, y_test, otimizacao):\n",
    "    x_train.reset_index(drop=True, inplace=True)\n",
    "    y_train.reset_index(drop=True, inplace=True)\n",
    "\n",
    "    categoricas = [column for column in x_train.columns if x_train[column].dtype.name == 'object']\n",
    "    numericas = [column for column in x_train.columns if (x_train[column].dtype.name == 'int64') or (x_train[column].dtype.name == 'float64')]\n",
    "    \n",
    "    pipeline_categoricas = Pipeline([\n",
    "        ('imputer', SimpleImputer(strategy='constant', fill_value='missing')),\n",
    "        ('encoder', BinaryEncoder())\n",
    "    ])\n",
    "    \n",
    "    pipeline_numericas = Pipeline([\n",
    "        ('imputer', SimpleImputer(strategy='median'))\n",
    "    ])\n",
    "    \n",
    "    pipeline_pre_processamento = ColumnTransformer([\n",
    "        ('cat', pipeline_categoricas, categoricas),\n",
    "        ('num', pipeline_numericas, numericas)\n",
    "    ])\n",
    "\n",
    "    if otimizacao == True:\n",
    "        pipeline_feature_selection = Pipeline([\n",
    "            ('variance_threshold', VarianceThreshold(threshold=0.01)),\n",
    "            ('select_k_best', SelectKBest(score_func=f_regression)),\n",
    "        ])\n",
    "        pipeline_optimal_hiperparams = Pipeline([\n",
    "            ('random_search', RandomizedSearchCV(\n",
    "                estimator=XGBClassifier(random_state=42, scale_pos_weight=9),\n",
    "                param_distributions={'feature_selection__select_k_best__k': range(1, 10), 'model__n_estimators': [100, 200, 300], 'model__max_depth': [2, 4, 6], 'model__learning_rate': [0.05, 0.1, 0.5, 0.8], 'model__scale_pos_weight': [3, 9]},\n",
    "                scoring='accuracy',\n",
    "                cv=5,\n",
    "                n_iter=10,\n",
    "                n_jobs=-1\n",
    "            ))\n",
    "        ])\n",
    "        pipeline = Pipeline([\n",
    "            ('pre_processing', pipeline_pre_processamento),\n",
    "            ('feature_selection', pipeline_feature_selection),\n",
    "            ('optimal_hiperparams', pipeline_optimal_hiperparams)\n",
    "        ])\n",
    "\n",
    "        model = pipeline.fit(x_train, y_train)\n",
    "\n",
    "    else:\n",
    "        pipeline = Pipeline([\n",
    "            ('pre_processing', pipeline_pre_processamento)\n",
    "        ])\n",
    "\n",
    "        model = make_pipeline(pipeline, XGBClassifier(random_state=42, n_estimators=200, max_depth=2, learning_rate=0.8, eval_metric='logloss', objective='binary:logistic', scale_pos_weight=9))\n",
    "        model.fit(x_train, y_train)\n",
    "    \n",
    "    y_predict_train = model.predict(x_train)\n",
    "    y_predict_test = model.predict(x_test)\n",
    "    \n",
    "    feature_importance = model.named_steps['xgbclassifier'].feature_importances_\n",
    "    feature_names = x_train.columns\n",
    "    \n",
    "    importance_dict = dict(zip(feature_names, feature_importance))\n",
    "    sorted_importance = sorted(importance_dict.items(), key=lambda x: x[1], reverse=True)\n",
    "    sorted_importance = pd.DataFrame(sorted_importance).rename({0:'feature', 1:'feature_importance'}, axis=1)\n",
    "\n",
    "    return y_predict_train, y_predict_test, sorted_importance\n"
   ]
  },
  {
   "attachments": {},
   "cell_type": "markdown",
   "metadata": {},
   "source": [
    "# <font color='red' style='font-size: 40px;'> 1) Divisão Inicial </font>\n",
    "<hr style='border: 2px solid red;'>"
   ]
  },
  {
   "attachments": {},
   "cell_type": "markdown",
   "metadata": {},
   "source": [
    "### 1.1) Separação em Treino, Teste e Validação"
   ]
  },
  {
   "cell_type": "code",
   "execution_count": 63,
   "metadata": {},
   "outputs": [
    {
     "name": "stdout",
     "output_type": "stream",
     "text": [
      "Quantidade de registros Treino: 150000\n",
      "Quantidade de registros Validação: 50000\n",
      "Quantidade de registros Teste: 200000\n"
     ]
    }
   ],
   "source": [
    "train = pd.read_csv('../100_case_santander/data/train.csv')\n",
    "test = pd.read_csv('../100_case_santander/data/test.csv')\n",
    "\n",
    "train.drop('ID_code', axis = 1, inplace = True)\n",
    "test.drop('ID_code', axis = 1, inplace = True)\n",
    "\n",
    "df_train = separa_treino_teste('target', train, 0.25)[0]\n",
    "df_valid = separa_treino_teste('target', train, 0.25)[1]\n",
    "df_test = test.copy()\n",
    "\n",
    "print(f'Quantidade de registros Treino: {df_train.shape[0]}')\n",
    "print(f'Quantidade de registros Validação: {df_valid.shape[0]}')\n",
    "print(f'Quantidade de registros Teste: {df_test.shape[0]}')"
   ]
  },
  {
   "attachments": {},
   "cell_type": "markdown",
   "metadata": {},
   "source": [
    "> 1. Antes de qualquer análise ou modelagem, deve-se separar em Treino, Validação e Teste. \n",
    "\n",
    "> 2. Isso é fundamental para o projeto, pois esta abordagem evita o Data Leakage (Vazamento de Dados)\n",
    "\n",
    "> 3. Dessa forma, teremos três situações:\n",
    "\n",
    "- Treino: Dados usados para Análise Exploratória e Modelagem\n",
    "- Validação: Dados usados para Análise de Desempenho do Modelo\n",
    "- Teste: Predição de Dados nunca vistos anteriormente, simulando um ambiente em produção"
   ]
  },
  {
   "attachments": {},
   "cell_type": "markdown",
   "metadata": {},
   "source": [
    "# <font color='red' style='font-size: 40px;'> 2) Análise Exploratória - Análise Univariada e Bivariada</font>\n",
    "<hr style='border: 2px solid red;'>"
   ]
  },
  {
   "attachments": {},
   "cell_type": "markdown",
   "metadata": {},
   "source": [
    "### 2.2) Análise dos Tipos de Variáveis"
   ]
  },
  {
   "cell_type": "code",
   "execution_count": 65,
   "metadata": {},
   "outputs": [
    {
     "name": "stdout",
     "output_type": "stream",
     "text": [
      "Quantidade de Colunas Qualitativas: 0\n",
      "Quantidade de Colunas Discretas: 1\n",
      "Quantidade de Colunas Continuas: 200\n"
     ]
    }
   ],
   "source": [
    "analytics = df_train.copy()\n",
    "\n",
    "qualitativas = [column for column in analytics.columns if analytics[column].dtype.name == 'object']\n",
    "discretas = [column for column in analytics.columns if analytics[column].dtype.name == 'int64']\n",
    "continuas = [column for column in analytics.columns if analytics[column].dtype.name == 'float64']\n",
    "\n",
    "print(f'Quantidade de Colunas Qualitativas: {len(qualitativas)}')\n",
    "print(f'Quantidade de Colunas Discretas: {len(discretas)}')\n",
    "print(f'Quantidade de Colunas Continuas: {len(continuas)}')"
   ]
  },
  {
   "attachments": {},
   "cell_type": "markdown",
   "metadata": {},
   "source": [
    "### 2.3) Análise da Qualidade dos Dados"
   ]
  },
  {
   "cell_type": "code",
   "execution_count": 66,
   "metadata": {},
   "outputs": [
    {
     "name": "stdout",
     "output_type": "stream",
     "text": [
      "Quantidade de Dados Nulos: 0\n"
     ]
    }
   ],
   "source": [
    "nulos = analytics.isnull().sum().sum()\n",
    "print(f'Quantidade de Dados Nulos: {nulos}')"
   ]
  },
  {
   "attachments": {},
   "cell_type": "markdown",
   "metadata": {},
   "source": [
    "### 2.4) Análise Univaridada da Target"
   ]
  },
  {
   "cell_type": "code",
   "execution_count": 67,
   "metadata": {},
   "outputs": [
    {
     "data": {
      "image/png": "[encoded data removed]",
      "text/plain": [
       "<Figure size 1000x500 with 1 Axes>"
      ]
     },
     "metadata": {},
     "output_type": "display_data"
    }
   ],
   "source": [
    "plota_barras(['target'], False, analytics, 1, 1, 'Distribuição da Target')"
   ]
  },
  {
   "attachments": {},
   "cell_type": "markdown",
   "metadata": {},
   "source": [
    "> 1. A Target possui um comportamento bem desbalanceado, ou seja, em torno de 90% dos clientes apresentam satisfação, ao passo que 10% apresenta insatisfação."
   ]
  },
  {
   "attachments": {},
   "cell_type": "markdown",
   "metadata": {},
   "source": [
    "### 2.5) Análise de Estatística Descritiva das Features"
   ]
  },
  {
   "cell_type": "code",
   "execution_count": 68,
   "metadata": {},
   "outputs": [
    {
     "data": {
      "text/html": [
       "<div>\n",
       "<style scoped>\n",
       "    .dataframe tbody tr th:only-of-type {\n",
       "        vertical-align: middle;\n",
       "    }\n",
       "\n",
       "    .dataframe tbody tr th {\n",
       "        vertical-align: top;\n",
       "    }\n",
       "\n",
       "    .dataframe thead th {\n",
       "        text-align: right;\n",
       "    }\n",
       "</style>\n",
       "<table border=\"1\" class=\"dataframe\">\n",
       "  <thead>\n",
       "    <tr style=\"text-align: right;\">\n",
       "      <th></th>\n",
       "      <th>features</th>\n",
       "      <th>mean</th>\n",
       "      <th>median</th>\n",
       "      <th>mode</th>\n",
       "      <th>min</th>\n",
       "      <th>max</th>\n",
       "      <th>std</th>\n",
       "    </tr>\n",
       "  </thead>\n",
       "  <tbody>\n",
       "    <tr>\n",
       "      <th>0</th>\n",
       "      <td>var_0</td>\n",
       "      <td>10.68</td>\n",
       "      <td>10.53</td>\n",
       "      <td>8.94</td>\n",
       "      <td>0.45</td>\n",
       "      <td>20.32</td>\n",
       "      <td>3.04</td>\n",
       "    </tr>\n",
       "    <tr>\n",
       "      <th>1</th>\n",
       "      <td>var_1</td>\n",
       "      <td>-1.63</td>\n",
       "      <td>-1.60</td>\n",
       "      <td>-6.06</td>\n",
       "      <td>-15.04</td>\n",
       "      <td>10.38</td>\n",
       "      <td>4.05</td>\n",
       "    </tr>\n",
       "    <tr>\n",
       "      <th>2</th>\n",
       "      <td>var_2</td>\n",
       "      <td>10.71</td>\n",
       "      <td>10.58</td>\n",
       "      <td>7.60</td>\n",
       "      <td>2.12</td>\n",
       "      <td>18.65</td>\n",
       "      <td>2.64</td>\n",
       "    </tr>\n",
       "    <tr>\n",
       "      <th>3</th>\n",
       "      <td>var_3</td>\n",
       "      <td>6.80</td>\n",
       "      <td>6.83</td>\n",
       "      <td>5.84</td>\n",
       "      <td>-0.04</td>\n",
       "      <td>13.19</td>\n",
       "      <td>2.05</td>\n",
       "    </tr>\n",
       "    <tr>\n",
       "      <th>4</th>\n",
       "      <td>var_4</td>\n",
       "      <td>11.08</td>\n",
       "      <td>11.11</td>\n",
       "      <td>10.90</td>\n",
       "      <td>5.07</td>\n",
       "      <td>16.67</td>\n",
       "      <td>1.62</td>\n",
       "    </tr>\n",
       "  </tbody>\n",
       "</table>\n",
       "</div>"
      ],
      "text/plain": [
       "  features  mean  median  mode    min   max  std\n",
       "0    var_0 10.68   10.53  8.94   0.45 20.32 3.04\n",
       "1    var_1 -1.63   -1.60 -6.06 -15.04 10.38 4.05\n",
       "2    var_2 10.71   10.58  7.60   2.12 18.65 2.64\n",
       "3    var_3  6.80    6.83  5.84  -0.04 13.19 2.05\n",
       "4    var_4 11.08   11.11 10.90   5.07 16.67 1.62"
      ]
     },
     "metadata": {},
     "output_type": "display_data"
    },
    {
     "data": {
      "image/png": "[encoded data removed]",
      "text/plain": [
       "<Figure size 1400x700 with 6 Axes>"
      ]
     },
     "metadata": {},
     "output_type": "display_data"
    }
   ],
   "source": [
    "list_features = [col for col in analytics.columns]\n",
    "list_means = [analytics[col].mean() for col in analytics.columns]\n",
    "list_medians = [analytics[col].median() for col in analytics.columns]\n",
    "list_mode = [analytics[col].mode()[0] for col in analytics.columns]\n",
    "list_min = [analytics[col].min() for col in analytics.columns]\n",
    "list_max = [analytics[col].max() for col in analytics.columns]\n",
    "list_std = [analytics[col].std() for col in analytics.columns]\n",
    "\n",
    "analytics_statitics = pd.DataFrame({'features':list_features, 'mean': list_means, 'median': list_medians, 'mode': list_mode, 'min': list_min, 'max': list_max, 'std': list_std})\n",
    "display(analytics_statitics.head())\n",
    "plota_histograma(['mean', 'median', 'mode','min', 'max', 'std'], analytics_statitics, 2, 3, 'Distribuição Estatísticas Descritivas')"
   ]
  },
  {
   "attachments": {},
   "cell_type": "markdown",
   "metadata": {},
   "source": [
    "> 1. Como há muitas colunas e elas não possuem nome, é impossível realizar uma análise atrelada ao conhecimento de Negócios.\n",
    "\n",
    "> 2. Dessa forma, optou-se por entender de forma massificada como as variáveis se comportam utilizando estatísticas descritivas como medidas de tendência central e medidas de dispersão\n",
    "\n",
    "> 3. Insights:\n",
    "\n",
    "- Medidas de Tendência Central: A Média, Mediana e Moda das Variáveis segue uma distribuição relativamente simétrica, sem grandes assimetrias. Isso significa que as variáveis tem escalas próximas, ou seja, nenhuma delas aparenta ter valores extremamente diferentes (como seria o caso de uma comparação de Idade vs Salário, por exemplo)\n",
    "\n",
    "- Máximo e Mínimo: Por outro lado, o Máximo e Mínimo mostram que há Outliers diferentes nas variáveis. No caso do Máximo nota-se uma assimetria para a direita, portanto, há um número considerável Outliers Positivos, ao passo que outras não possuem. No caso do Mínimo, a assimetria a esquerda é mostra que não há tantos Outliers Negativos. Além disso, percebe-se que há mais valores positivos que negativos em nosso dataset\n",
    "\n",
    "- Medidas de Dispersão: O Desvio Padrão aparenta ter uma assimetria a direita, entretanto, as médias e medianas dos desvios padrões mostram que a maior parte das variáveis tem os valores mais concetrados ao redor da média."
   ]
  },
  {
   "attachments": {},
   "cell_type": "markdown",
   "metadata": {},
   "source": [
    "### 2.6) Testando a Hipótese do Público Satisfeito e do Insatisfeito ter comportamentos diferentes"
   ]
  },
  {
   "cell_type": "code",
   "execution_count": 69,
   "metadata": {},
   "outputs": [
    {
     "name": "stdout",
     "output_type": "stream",
     "text": [
      "Quantidade de Clientes Satisfeitos: 135022\n",
      "Quantidade de Clientes Insatisfeitos: 14978\n",
      "Pelo Teste de Hipótese, A Hipótese Nula de  que a variável \"mean\" segue uma Distribuição Normal é ACEITA\n"
     ]
    },
    {
     "data": {
      "image/png": "[encoded data removed]",
      "text/plain": [
       "<Figure size 1000x500 with 2 Axes>"
      ]
     },
     "metadata": {},
     "output_type": "display_data"
    },
    {
     "name": "stdout",
     "output_type": "stream",
     "text": [
      "Média Amostra 1: 6.731530732393637\n",
      "Média Amostra 2: 6.761123890661527\n",
      "Pelo Teste de Hipótese Z, não há diferença significativa entre as médias da Amostra 1 e Amostra 2\n"
     ]
    }
   ],
   "source": [
    "analytics_stratified = analytics.copy()\n",
    "\n",
    "# Satisfeitos\n",
    "analytics_satisfied = analytics_stratified.loc[analytics_stratified.target == 0]\n",
    "list_features = [col for col in analytics_satisfied.columns]\n",
    "list_means = [analytics_satisfied[col].mean() for col in analytics_satisfied.columns]\n",
    "list_medians = [analytics_satisfied[col].median() for col in analytics_satisfied.columns]\n",
    "list_mode = [analytics_satisfied[col].mode()[0] for col in analytics_satisfied.columns]\n",
    "list_min = [analytics_satisfied[col].min() for col in analytics_satisfied.columns]\n",
    "list_max = [analytics_satisfied[col].max() for col in analytics_satisfied.columns]\n",
    "list_std = [analytics_satisfied[col].std() for col in analytics_satisfied.columns]\n",
    "analytics_statitics_satisfied = pd.DataFrame({'features':list_features, 'mean': list_means, 'median': list_medians, 'mode': list_mode, 'min': list_min, 'max': list_max, 'std': list_std})\n",
    "print(f'Quantidade de Clientes Satisfeitos: {analytics_satisfied.shape[0]}')\n",
    "\n",
    "# Insatisfeitos\n",
    "analytics_dissatisfied = analytics_stratified.loc[analytics_stratified.target == 1]\n",
    "list_features = [col for col in analytics_dissatisfied.columns]\n",
    "list_means = [analytics_dissatisfied[col].mean() for col in analytics_dissatisfied.columns]\n",
    "list_medians = [analytics_dissatisfied[col].median() for col in analytics_dissatisfied.columns]\n",
    "list_mode = [analytics_dissatisfied[col].mode()[0] for col in analytics_dissatisfied.columns]\n",
    "list_min = [analytics_dissatisfied[col].min() for col in analytics_dissatisfied.columns]\n",
    "list_max = [analytics_dissatisfied[col].max() for col in analytics_dissatisfied.columns]\n",
    "list_std = [analytics_dissatisfied[col].std() for col in analytics_dissatisfied.columns]\n",
    "analytics_statitics_dissatisfied = pd.DataFrame({'features':list_features, 'mean': list_means, 'median': list_medians, 'mode': list_mode, 'min': list_min, 'max': list_max, 'std': list_std})\n",
    "print(f'Quantidade de Clientes Insatisfeitos: {analytics_dissatisfied.shape[0]}')\n",
    "\n",
    "# Testa a Hipótese de Normalidade\n",
    "analisa_normalidade(analytics_statitics_satisfied, analytics_statitics_dissatisfied, 'mean')\n",
    "\n",
    "# Testa a Hipótese da diferença ser estatisticamente significante\n",
    "teste_hipotese_duas_amostras_independentes(True, analytics_statitics_satisfied, analytics_statitics_dissatisfied, 'mean')"
   ]
  },
  {
   "attachments": {},
   "cell_type": "markdown",
   "metadata": {},
   "source": [
    "> 1. Aparentemente, a Média das médias das features segue uma Distribuição Normal, portanto, aplicou-se um Teste de Hipótese Paramétrico chamado Teste Z, o qual testa a hipótese de duas amostras independentes terem diferença significativa\n",
    "\n",
    "> 2. O teste de hipótese mostra para nós que, independentemente dos clientes estarem satisfeitos ou não, a distribuição da média das features realmente não tem assimetrias fortes. "
   ]
  },
  {
   "attachments": {},
   "cell_type": "markdown",
   "metadata": {},
   "source": [
    "# <font color='red' style='font-size: 40px;'> 3) Pré-Processamento e Feature Engineering </font>\n",
    "<hr style='border: 2px solid red;'>"
   ]
  },
  {
   "attachments": {},
   "cell_type": "markdown",
   "metadata": {},
   "source": [
    "### 3.1) Redução de Dimensionalidade"
   ]
  },
  {
   "cell_type": "code",
   "execution_count": 70,
   "metadata": {},
   "outputs": [],
   "source": [
    "# def pca_transform(data, target_col, n_components):\n",
    "#     # Separar a variável alvo das features\n",
    "#     target = data[target_col]\n",
    "#     features = data.drop(columns=target_col)\n",
    "    \n",
    "#     # Padronizar as features\n",
    "#     scaler = StandardScaler()\n",
    "#     standardized_features = scaler.fit_transform(features)\n",
    "    \n",
    "#     # Aplicar PCA\n",
    "#     pca = PCA(n_components=n_components)\n",
    "#     transformed_features = pca.fit_transform(standardized_features)\n",
    "    \n",
    "#     # Variância explicada\n",
    "#     explained_variance = pca.explained_variance_ratio_\n",
    "#     total_variance = sum(explained_variance)\n",
    "#     explained_variance = [round(ev, 4) for ev in explained_variance]\n",
    "    \n",
    "#     # Criar um DataFrame com as features transformadas e a variável alvo\n",
    "#     transformed_data = pd.DataFrame(transformed_features, columns=[f'PC{i+1}' for i in range(n_components)])\n",
    "#     transformed_data[target_col] = target.values\n",
    "    \n",
    "#     return transformed_data, explained_variance, total_variance\n",
    "\n",
    "# transformed_data, explained_variance, total_variance = pca_transform(analytics, 'target', n_components=150)  # Substitua 'target' pela coluna da sua variável alvo\n",
    "# print('Variância Explicada por Componente Principal:')\n",
    "# for i, ev in enumerate(explained_variance):\n",
    "#     print(f'PC{i+1}: {ev}')\n",
    "\n",
    "# print('Variância Total:', total_variance)"
   ]
  },
  {
   "cell_type": "code",
   "execution_count": null,
   "metadata": {},
   "outputs": [],
   "source": []
  },
  {
   "cell_type": "code",
   "execution_count": null,
   "metadata": {},
   "outputs": [],
   "source": []
  },
  {
   "attachments": {},
   "cell_type": "markdown",
   "metadata": {},
   "source": [
    "# <font color='red' style='font-size: 40px;'> 4) Modelagem </font>\n",
    "<hr style='border: 2px solid red;'>"
   ]
  },
  {
   "cell_type": "code",
   "execution_count": 83,
   "metadata": {},
   "outputs": [],
   "source": [
    "x_train = separa_feature_target('target', df_train)[0]\n",
    "y_train = separa_feature_target('target', df_train)[1]\n",
    "x_valid = separa_feature_target('target', df_valid)[0]\n",
    "y_valid = separa_feature_target('target', df_valid)[1]"
   ]
  },
  {
   "cell_type": "code",
   "execution_count": 99,
   "metadata": {},
   "outputs": [],
   "source": [
    "def regressao_logistica(x_train, y_train, x_test, y_test):\n",
    "    # x_train.reset_index(drop=True, inplace=True)\n",
    "    # y_train.reset_index(drop=True, inplace=True)\n",
    "\n",
    "    categoricas = [column for column in x_train.columns if x_train[column].dtype.name == 'object']\n",
    "    numericas = [column for column in x_train.columns if (x_train[column].dtype.name == 'int64') or (x_train[column].dtype.name == 'float64')]\n",
    "    \n",
    "    pipeline_numericas = Pipeline([\n",
    "        ('imputer', SimpleImputer(strategy='median')),\n",
    "        ('scaler', StandardScaler())\n",
    "    ])\n",
    "    \n",
    "    pipeline_pre_processamento = ColumnTransformer([\n",
    "        ('num', pipeline_numericas, numericas)\n",
    "    ])\n",
    "\n",
    "    pipeline = Pipeline([\n",
    "        ('pre_processing', pipeline_pre_processamento)\n",
    "    ])\n",
    "\n",
    "    model = make_pipeline(pipeline, LogisticRegression(random_state=42, class_weight = {0: 1, 1: 9}))\n",
    "    model.fit(x_train, y_train)\n",
    "    \n",
    "    y_predict_train = model.predict(x_train)\n",
    "    y_predict_test = model.predict(x_test)\n",
    "    \n",
    "\n",
    "    return y_predict_train, y_predict_test\n",
    "\n",
    "def metricas_classificacao(classificador, y_train, y_predict_train, y_test, y_predict_test):\n",
    "    accuracy = accuracy_score(y_train, y_predict_train)\n",
    "    precision = precision_score(y_train, y_predict_train)\n",
    "    recall = recall_score(y_train, y_predict_train)\n",
    "    f1 = f1_score(y_train, y_predict_train)\n",
    "    roc_curve = roc_auc_score(y_train, y_predict_train)\n",
    "    metricas_treino = pd.DataFrame({'Acuracia':accuracy, 'Precisao':precision, 'Recall':recall, 'F1':f1, 'Roc_Curve':roc_curve, 'Etapa':'treino','Classificador':classificador}, index = np.arange(1))\n",
    "    \n",
    "    accuracy = accuracy_score(y_test, y_predict_test)\n",
    "    precision = precision_score(y_test, y_predict_test)\n",
    "    recall = recall_score(y_test, y_predict_test)\n",
    "    f1 = f1_score(y_test, y_predict_test)\n",
    "    roc_curve = roc_auc_score(y_test, y_predict_test)\n",
    "    metricas_teste = pd.DataFrame({'Acuracia':accuracy, 'Precisao':precision, 'Recall':recall, 'F1':f1, 'Roc_Curve':roc_curve, 'Etapa':'teste','Classificador':classificador}, index = np.arange(1, 2))\n",
    "    metricas_finais = pd.concat([metricas_treino, metricas_teste])\n",
    "\n",
    "    return metricas_finais"
   ]
  },
  {
   "cell_type": "code",
   "execution_count": 100,
   "metadata": {},
   "outputs": [
    {
     "data": {
      "text/html": [
       "<div>\n",
       "<style scoped>\n",
       "    .dataframe tbody tr th:only-of-type {\n",
       "        vertical-align: middle;\n",
       "    }\n",
       "\n",
       "    .dataframe tbody tr th {\n",
       "        vertical-align: top;\n",
       "    }\n",
       "\n",
       "    .dataframe thead th {\n",
       "        text-align: right;\n",
       "    }\n",
       "</style>\n",
       "<table border=\"1\" class=\"dataframe\">\n",
       "  <thead>\n",
       "    <tr style=\"text-align: right;\">\n",
       "      <th></th>\n",
       "      <th>Acuracia</th>\n",
       "      <th>Precisao</th>\n",
       "      <th>Recall</th>\n",
       "      <th>F1</th>\n",
       "      <th>Roc_Curve</th>\n",
       "      <th>Etapa</th>\n",
       "      <th>Classificador</th>\n",
       "    </tr>\n",
       "  </thead>\n",
       "  <tbody>\n",
       "    <tr>\n",
       "      <th>0</th>\n",
       "      <td>0.78</td>\n",
       "      <td>0.29</td>\n",
       "      <td>0.78</td>\n",
       "      <td>0.42</td>\n",
       "      <td>0.78</td>\n",
       "      <td>treino</td>\n",
       "      <td>Regressão Logística</td>\n",
       "    </tr>\n",
       "    <tr>\n",
       "      <th>1</th>\n",
       "      <td>0.78</td>\n",
       "      <td>0.29</td>\n",
       "      <td>0.77</td>\n",
       "      <td>0.42</td>\n",
       "      <td>0.78</td>\n",
       "      <td>teste</td>\n",
       "      <td>Regressão Logística</td>\n",
       "    </tr>\n",
       "  </tbody>\n",
       "</table>\n",
       "</div>"
      ],
      "text/plain": [
       "   Acuracia  Precisao  Recall   F1  Roc_Curve   Etapa        Classificador\n",
       "0      0.78      0.29    0.78 0.42       0.78  treino  Regressão Logística\n",
       "1      0.78      0.29    0.77 0.42       0.78   teste  Regressão Logística"
      ]
     },
     "execution_count": 100,
     "metadata": {},
     "output_type": "execute_result"
    }
   ],
   "source": [
    "y_predict_train = regressao_logistica(x_train, y_train, x_valid, y_valid)[0]\n",
    "y_predict_test = regressao_logistica(x_train, y_train, x_valid, y_valid)[1]\n",
    "metricas_classificacao('Regressão Logística', y_train, y_predict_train, y_valid, y_predict_test)"
   ]
  },
  {
   "cell_type": "code",
   "execution_count": null,
   "metadata": {},
   "outputs": [],
   "source": [
    "def ganhos_e_perdas(dados):\n",
    "    customer_ids = dados['customer_id']\n",
    "    mediana_valores_recebidos_churn = dados.loc[dados.churn_label == 1]['total_charges'].median()\n",
    "    y = dados['churn_label']\n",
    "    y_predict = dados['churn_label_predict']\n",
    "    accuracy = accuracy_score(y, y_predict)\n",
    "    precision = precision_score(y, y_predict)\n",
    "    recall = recall_score(y, y_predict)\n",
    "    f1 = f1_score(y, y_predict)\n",
    "    roc_curve = roc_auc_score(y, y_predict)\n",
    "    matriz_confusao = confusion_matrix(y, y_predict)\n",
    "    matriz_custo_beneficios = np.array([[0, 100], \n",
    "                                       [mediana_valores_recebidos_churn, mediana_valores_recebidos_churn]])\n",
    "    resultados_esperados = 'R$' + str(matriz_confusao[0, 0]*matriz_custo_beneficios[0, 0]-matriz_confusao[0, 1]*matriz_custo_beneficios[0, 1]-matriz_confusao[1, 0]*matriz_custo_beneficios[1, 0]+matriz_confusao[1, 1]*matriz_custo_beneficios[1, 1])\n",
    "    return matriz_confusao, matriz_custo_beneficios, resultados_esperados"
   ]
  },
  {
   "attachments": {},
   "cell_type": "markdown",
   "metadata": {},
   "source": [
    "# <font color='red' style='font-size: 40px;'> 5) Otimização </font>\n",
    "<hr style='border: 2px solid red;'>"
   ]
  },
  {
   "cell_type": "code",
   "execution_count": null,
   "metadata": {},
   "outputs": [],
   "source": []
  },
  {
   "cell_type": "code",
   "execution_count": null,
   "metadata": {},
   "outputs": [],
   "source": []
  },
  {
   "attachments": {},
   "cell_type": "markdown",
   "metadata": {},
   "source": [
    "# <font color='red' style='font-size: 40px;'> 6) Solução Questões </font>\n",
    "<hr style='border: 2px solid red;'>"
   ]
  },
  {
   "cell_type": "code",
   "execution_count": null,
   "metadata": {},
   "outputs": [],
   "source": []
  },
  {
   "cell_type": "code",
   "execution_count": null,
   "metadata": {},
   "outputs": [],
   "source": []
  },
  {
   "cell_type": "code",
   "execution_count": null,
   "metadata": {},
   "outputs": [],
   "source": []
  },
  {
   "cell_type": "code",
   "execution_count": null,
   "metadata": {},
   "outputs": [],
   "source": []
  },
  {
   "cell_type": "code",
   "execution_count": null,
   "metadata": {},
   "outputs": [],
   "source": []
  }
 ],
 "metadata": {
  "kernelspec": {
   "display_name": "base",
   "language": "python",
   "name": "python3"
  },
  "language_info": {
   "codemirror_mode": {
    "name": "ipython",
    "version": 3
   },
   "file_extension": ".py",
   "mimetype": "text/x-python",
   "name": "python",
   "nbconvert_exporter": "python",
   "pygments_lexer": "ipython3",
   "version": "3.9.16"
  },
  "orig_nbformat": 4
 },
 "nbformat": 4,
 "nbformat_minor": 2
}
