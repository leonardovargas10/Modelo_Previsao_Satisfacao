{
 "cells": [
  {
   "attachments": {},
   "cell_type": "markdown",
   "metadata": {},
   "source": [
    "<h1 style='color: blue; font-size: 34px; font-weight: bold;'> Projeto Proposto \n",
    "</h1>\n",
    "<p style='font-size: 18px; line-height: 2; margin: 0px 0px; text-align: justify; text-indent: 0px;'>    \n",
    "<i> Este projeto baseia-se na criação de um Modelo de Regressão para Previsão de Satisfação de Clientes. </i>       \n",
    "</p>  "
   ]
  },
  {
   "attachments": {},
   "cell_type": "markdown",
   "metadata": {},
   "source": [
    "# <font color='red' style='font-size: 40px;'> Problemática </font>\n",
    "<hr style='border: 2px solid red;'>\n",
    "\n",
    "<p style='font-size: 18px; line-height: 2; margin: 0px 0px; text-align: justify; text-indent: 0px;'>    \n",
    "<i>  Este projeto tem o intuito de ser um Modelo de Machine Learning para prever a insatisfação dos Clientes. A coluna ‘TARGET’ é a variável resposta. Ela é igual a 1 para clientes insatisfeitos e igual a 0 para clientes satisfeitos. Duas bases são dadas, uma para treino e uma para avaliação. Três são as tarefas a serem realizadas.\n",
    "\n",
    "\n",
    "</i> \n",
    "</p>  \n",
    "\n",
    "<p style='font-size: 18px; line-height: 2; margin: 0px 0px; text-align: justify; text-indent: 0px;'>    \n",
    "<i>  \n",
    "\n",
    "a) Um falso positivo ocorre quando classificamos um cliente como insatisfeito, mas ela não se comporta como tal. Neste caso, o custo de preparar e executar uma ação de retenção é um valor fixo de R$ 10 por cliente. Nada é ganho pois a ação de retenção não é capaz de mudar o comportamento do cliente. Um falso negativo ocorre quando um cliente é previsto como satisfeito, mas na verdade ele estava insatisfeito. Neste caso, nenhum dinheiro foi gasto e nada foi ganho. Um verdadeiro positivo é um cliente que estava insatisfeito e foi alvo de uma ação de retenção. O benefício neste caso é o lucro da ação (R$ 100) menos os custos relacionados à ação de retenção (R$ 10). Por fim, um verdadeiro negativo é um cliente insatisfeito e que não é alvo de nenhuma ação. O benefício neste caso é zero, isto é, nenhum custo, mas nenhum lucro. A primeira tarefa deste case é maximizar o lucro esperado por cliente considerando o contexto descrito no parágrafo acima.\n",
    "\n",
    "b) A segunda tarefa consiste em dar uma nota de 1 a 5 para cada cliente da base teste, respeitando a variável ‘TARGET’, isto é, o seu nível de satisfação, sendo 1 o mais insatisfeito e 5 o mais satisfeito. Ao dar essa nota deve-se ter em mente que somente os clientes com nota 1 serão alvos de uma ação de retenção e que o objetivo dessa ação é maximizar o lucro esperado por cliente (usando os mesmos valores da primeira questão).\n",
    "\n",
    "c) Todo conjunto de dados é passível de ser dividido em grupos coesos, conhecidos como agrupamentos naturais. A terceira tarefa é encontrar os três grupos naturais que possuem os maiores lucros esperados por cliente (usando os mesmos valores da\n",
    "primeira questão).\n",
    "\n",
    "\n",
    "</i> \n",
    "</p>  \n",
    "\n",
    "<p style='font-size: 18px; line-height: 2; margin: 0px 0px; text-align: justify; text-indent: 0px;'>    \n",
    "<i> \n",
    "</i> \n",
    "</p>  \n",
    "\n",
    "\n",
    "https://www.kaggle.com/competitions/santander-customer-transaction-prediction\n"
   ]
  },
  {
   "attachments": {},
   "cell_type": "markdown",
   "metadata": {},
   "source": [
    "# <font color='red' style='font-size: 40px;'> Bibliotecas Utilizadas </font>\n",
    "<hr style='border: 2px solid red;'>"
   ]
  },
  {
   "cell_type": "code",
   "execution_count": 33,
   "metadata": {},
   "outputs": [],
   "source": [
    "## Bibliotecas De Manipulação de Dados e Visualização\n",
    "import pandas as pd \n",
    "import builtins as builtins\n",
    "import matplotlib.pyplot as plt\n",
    "import seaborn as sns \n",
    "from IPython.display import display, Image\n",
    "\n",
    "## Bibliotecas de Modelagem Matemática e Estatística\n",
    "import numpy as np\n",
    "import scipy as sp \n",
    "import scipy.stats as stats\n",
    "import statsmodels\n",
    "import statsmodels.api as sm\n",
    "import statsmodels.formula.api as smf\n",
    "from scipy.stats import normaltest, ttest_ind, ttest_rel, mannwhitneyu, wilcoxon, kruskal, uniform\n",
    "from statsmodels.stats.weightstats import ztest\n",
    "from statsmodels.stats.diagnostic import lilliefors\n",
    "\n",
    "# Bibliotecas de Manipulação de Tempo\n",
    "import time\n",
    "import datetime\n",
    "\n",
    "# Bibliotecas de Seleção de Modelos\n",
    "from skopt.space import Real, Categorical, Integer \n",
    "from skopt import BayesSearchCV\n",
    "from sklearn.model_selection import train_test_split, KFold, cross_val_score, cross_validate, cross_val_predict\n",
    "from sklearn.feature_selection import VarianceThreshold, SelectKBest, chi2, f_classif, f_regression, mutual_info_classif, mutual_info_regression\n",
    "from feature_engine.selection import DropConstantFeatures, DropCorrelatedFeatures, SmartCorrelatedSelection\n",
    "\n",
    "# Bibliotecas de Pré-Processamento e Pipeline\n",
    "from category_encoders import BinaryEncoder\n",
    "from sklearn.preprocessing import StandardScaler, MinMaxScaler\n",
    "from sklearn.pipeline import Pipeline, make_pipeline\n",
    "from sklearn.compose import ColumnTransformer\n",
    "from sklearn.impute import SimpleImputer\n",
    "\n",
    "# Bibliotecas de Modelos de Machine Learning\n",
    "from sklearn.linear_model import LogisticRegression\n",
    "from sklearn.neighbors import KNeighborsClassifier\n",
    "from sklearn.svm import SVC\n",
    "from sklearn.ensemble import RandomForestClassifier\n",
    "from xgboost import XGBClassifier\n",
    "from sklearn.cluster import KMeans\n",
    "from sklearn.decomposition import PCA\n",
    "\n",
    "# Bibliotecas de Métricas de Machine Learning\n",
    "from sklearn.metrics import accuracy_score, roc_auc_score, precision_score, recall_score, f1_score, confusion_matrix, classification_report, silhouette_score\n",
    "\n",
    "\n",
    "# Parâmetros de Otimização\n",
    "import warnings\n",
    "%matplotlib inline\n",
    "sns.set()\n",
    "plt.rcParams['font.family'] = 'Arial'\n",
    "plt.rcParams['font.size'] = '14'\n",
    "plt.rcParams['figure.figsize'] = [10, 5]\n",
    "pd.set_option('display.max_rows', 100)\n",
    "pd.set_option('display.max_columns', 100)\n",
    "pd.set_option('display.float_format', lambda x: '%.2f' % x) # Tira os números do formato de Notação Científica\n",
    "np.set_printoptions(suppress=True) # Tira os números do formato de Notação Científica em Numpy Arrays\n",
    "warnings.filterwarnings('ignore')\n",
    "warnings.simplefilter(action='ignore', category=FutureWarning) # Retira Future Warnings"
   ]
  },
  {
   "cell_type": "code",
   "execution_count": 34,
   "metadata": {},
   "outputs": [
    {
     "data": {
      "text/html": [
       "<style>#sk-container-id-2 {color: black;background-color: white;}#sk-container-id-2 pre{padding: 0;}#sk-container-id-2 div.sk-toggleable {background-color: white;}#sk-container-id-2 label.sk-toggleable__label {cursor: pointer;display: block;width: 100%;margin-bottom: 0;padding: 0.3em;box-sizing: border-box;text-align: center;}#sk-container-id-2 label.sk-toggleable__label-arrow:before {content: \"▸\";float: left;margin-right: 0.25em;color: #696969;}#sk-container-id-2 label.sk-toggleable__label-arrow:hover:before {color: black;}#sk-container-id-2 div.sk-estimator:hover label.sk-toggleable__label-arrow:before {color: black;}#sk-container-id-2 div.sk-toggleable__content {max-height: 0;max-width: 0;overflow: hidden;text-align: left;background-color: #f0f8ff;}#sk-container-id-2 div.sk-toggleable__content pre {margin: 0.2em;color: black;border-radius: 0.25em;background-color: #f0f8ff;}#sk-container-id-2 input.sk-toggleable__control:checked~div.sk-toggleable__content {max-height: 200px;max-width: 100%;overflow: auto;}#sk-container-id-2 input.sk-toggleable__control:checked~label.sk-toggleable__label-arrow:before {content: \"▾\";}#sk-container-id-2 div.sk-estimator input.sk-toggleable__control:checked~label.sk-toggleable__label {background-color: #d4ebff;}#sk-container-id-2 div.sk-label input.sk-toggleable__control:checked~label.sk-toggleable__label {background-color: #d4ebff;}#sk-container-id-2 input.sk-hidden--visually {border: 0;clip: rect(1px 1px 1px 1px);clip: rect(1px, 1px, 1px, 1px);height: 1px;margin: -1px;overflow: hidden;padding: 0;position: absolute;width: 1px;}#sk-container-id-2 div.sk-estimator {font-family: monospace;background-color: #f0f8ff;border: 1px dotted black;border-radius: 0.25em;box-sizing: border-box;margin-bottom: 0.5em;}#sk-container-id-2 div.sk-estimator:hover {background-color: #d4ebff;}#sk-container-id-2 div.sk-parallel-item::after {content: \"\";width: 100%;border-bottom: 1px solid gray;flex-grow: 1;}#sk-container-id-2 div.sk-label:hover label.sk-toggleable__label {background-color: #d4ebff;}#sk-container-id-2 div.sk-serial::before {content: \"\";position: absolute;border-left: 1px solid gray;box-sizing: border-box;top: 0;bottom: 0;left: 50%;z-index: 0;}#sk-container-id-2 div.sk-serial {display: flex;flex-direction: column;align-items: center;background-color: white;padding-right: 0.2em;padding-left: 0.2em;position: relative;}#sk-container-id-2 div.sk-item {position: relative;z-index: 1;}#sk-container-id-2 div.sk-parallel {display: flex;align-items: stretch;justify-content: center;background-color: white;position: relative;}#sk-container-id-2 div.sk-item::before, #sk-container-id-2 div.sk-parallel-item::before {content: \"\";position: absolute;border-left: 1px solid gray;box-sizing: border-box;top: 0;bottom: 0;left: 50%;z-index: -1;}#sk-container-id-2 div.sk-parallel-item {display: flex;flex-direction: column;z-index: 1;position: relative;background-color: white;}#sk-container-id-2 div.sk-parallel-item:first-child::after {align-self: flex-end;width: 50%;}#sk-container-id-2 div.sk-parallel-item:last-child::after {align-self: flex-start;width: 50%;}#sk-container-id-2 div.sk-parallel-item:only-child::after {width: 0;}#sk-container-id-2 div.sk-dashed-wrapped {border: 1px dashed gray;margin: 0 0.4em 0.5em 0.4em;box-sizing: border-box;padding-bottom: 0.4em;background-color: white;}#sk-container-id-2 div.sk-label label {font-family: monospace;font-weight: bold;display: inline-block;line-height: 1.2em;}#sk-container-id-2 div.sk-label-container {text-align: center;}#sk-container-id-2 div.sk-container {/* jupyter's `normalize.less` sets `[hidden] { display: none; }` but bootstrap.min.css set `[hidden] { display: none !important; }` so we also need the `!important` here to be able to override the default hidden behavior on the sphinx rendered scikit-learn.org. See: https://github.com/scikit-learn/scikit-learn/issues/21755 */display: inline-block !important;position: relative;}#sk-container-id-2 div.sk-text-repr-fallback {display: none;}</style><div id=\"sk-container-id-2\" class=\"sk-top-container\"><div class=\"sk-text-repr-fallback\"><pre>XGBClassifier(base_score=None, booster=None, callbacks=None,\n",
       "              colsample_bylevel=None, colsample_bynode=None,\n",
       "              colsample_bytree=None, early_stopping_rounds=None,\n",
       "              enable_categorical=False, eval_metric=None, gamma=None,\n",
       "              gpu_id=None, grow_policy=None, importance_type=None,\n",
       "              interaction_constraints=None, learning_rate=None, max_bin=None,\n",
       "              max_cat_to_onehot=None, max_delta_step=None, max_depth=None,\n",
       "              max_leaves=None, min_child_weight=None, missing=nan,\n",
       "              monotone_constraints=None, n_estimators=100, n_jobs=None,\n",
       "              num_parallel_tree=None, objective=&#x27;&#x27;, predictor=None,\n",
       "              random_state=None, reg_alpha=None, ...)</pre><b>In a Jupyter environment, please rerun this cell to show the HTML representation or trust the notebook. <br />On GitHub, the HTML representation is unable to render, please try loading this page with nbviewer.org.</b></div><div class=\"sk-container\" hidden><div class=\"sk-item\"><div class=\"sk-estimator sk-toggleable\"><input class=\"sk-toggleable__control sk-hidden--visually\" id=\"sk-estimator-id-2\" type=\"checkbox\" checked><label for=\"sk-estimator-id-2\" class=\"sk-toggleable__label sk-toggleable__label-arrow\">XGBClassifier</label><div class=\"sk-toggleable__content\"><pre>XGBClassifier(base_score=None, booster=None, callbacks=None,\n",
       "              colsample_bylevel=None, colsample_bynode=None,\n",
       "              colsample_bytree=None, early_stopping_rounds=None,\n",
       "              enable_categorical=False, eval_metric=None, gamma=None,\n",
       "              gpu_id=None, grow_policy=None, importance_type=None,\n",
       "              interaction_constraints=None, learning_rate=None, max_bin=None,\n",
       "              max_cat_to_onehot=None, max_delta_step=None, max_depth=None,\n",
       "              max_leaves=None, min_child_weight=None, missing=nan,\n",
       "              monotone_constraints=None, n_estimators=100, n_jobs=None,\n",
       "              num_parallel_tree=None, objective=&#x27;&#x27;, predictor=None,\n",
       "              random_state=None, reg_alpha=None, ...)</pre></div></div></div></div></div>"
      ],
      "text/plain": [
       "XGBClassifier(base_score=None, booster=None, callbacks=None,\n",
       "              colsample_bylevel=None, colsample_bynode=None,\n",
       "              colsample_bytree=None, early_stopping_rounds=None,\n",
       "              enable_categorical=False, eval_metric=None, gamma=None,\n",
       "              gpu_id=None, grow_policy=None, importance_type=None,\n",
       "              interaction_constraints=None, learning_rate=None, max_bin=None,\n",
       "              max_cat_to_onehot=None, max_delta_step=None, max_depth=None,\n",
       "              max_leaves=None, min_child_weight=None, missing=nan,\n",
       "              monotone_constraints=None, n_estimators=100, n_jobs=None,\n",
       "              num_parallel_tree=None, objective='', predictor=None,\n",
       "              random_state=None, reg_alpha=None, ...)"
      ]
     },
     "execution_count": 34,
     "metadata": {},
     "output_type": "execute_result"
    }
   ],
   "source": [
    "XGBClassifier('')"
   ]
  },
  {
   "attachments": {},
   "cell_type": "markdown",
   "metadata": {},
   "source": [
    "# <font color='red' style='font-size: 40px;'> Funções </font>\n",
    "<hr style='border: 2px solid red;'>"
   ]
  },
  {
   "attachments": {},
   "cell_type": "markdown",
   "metadata": {},
   "source": [
    "## Funções de Visualização"
   ]
  },
  {
   "attachments": {},
   "cell_type": "markdown",
   "metadata": {},
   "source": [
    "* Plota Barras "
   ]
  },
  {
   "cell_type": "code",
   "execution_count": 35,
   "metadata": {},
   "outputs": [],
   "source": [
    "def plota_barras(lista_variaveis, hue, df, linhas, colunas, titulo):\n",
    "    if hue != False:\n",
    "        if (linhas == 1) and (colunas == 1):\n",
    "            k = 0\n",
    "            ax = sns.countplot(x = lista_variaveis[k], data = df, orient = 'h', hue = hue)\n",
    "            ax.set_title(f'{titulo}')\n",
    "            ax.set_xlabel(f'{lista_variaveis[k]}', fontsize = 14)\n",
    "            ax.set_ylabel(f'Quantidade', fontsize = 14)\n",
    "            total = []\n",
    "            for bar in ax.patches:\n",
    "                height = bar.get_height()\n",
    "                total.append(height)\n",
    "            total = builtins.sum(total)\n",
    "            \n",
    "            sizes = []\n",
    "            for bar in ax.patches:\n",
    "                height = bar.get_height()\n",
    "                sizes.append(height)\n",
    "                ax.text(bar.get_x() + bar.get_width()/1.6,\n",
    "                        height,\n",
    "                        f'{builtins.round((height/total)*100, 2)}%',\n",
    "                        ha = 'center',\n",
    "                        fontsize = 12\n",
    "                )\n",
    "            ax.set_ylim(0, builtins.max(sizes)*1.1)\n",
    "            plt.show()\n",
    "        elif linhas == 1:\n",
    "            fig, axis = plt.subplots(linhas, colunas, figsize=(20, 10), sharey=True)\n",
    "            fig.suptitle(f'{titulo}')\n",
    "            k = 0\n",
    "            for i in np.arange(linhas):\n",
    "                for j in np.arange(colunas):\n",
    "                    ax = sns.countplot(x = lista_variaveis[k], data = df, orient = 'h', ax = axis[j], hue = hue)\n",
    "                    ax.set_xlabel(f'{lista_variaveis[k]}', fontsize = 14)\n",
    "                    ax.set_ylabel(f'Quantidade', fontsize = 14)\n",
    "                    total = []\n",
    "                    for bar in ax.patches:\n",
    "                        height = bar.get_height()\n",
    "                        total.append(height)\n",
    "                    total = builtins.sum(total)\n",
    "                    \n",
    "                    sizes = []\n",
    "                    for bar in ax.patches:\n",
    "                        height = bar.get_height()\n",
    "                        sizes.append(height)\n",
    "                        ax.text(bar.get_x() + bar.get_width()/1.6,\n",
    "                                height,\n",
    "                                f'{builtins.round((height/total)*100, 2)}%',\n",
    "                                ha = 'center',\n",
    "                                fontsize = 12\n",
    "                        )\n",
    "                    ax.set_ylim(0, builtins.max(sizes)*1.1)\n",
    "                    k = k + 1\n",
    "        elif colunas == 1:\n",
    "            fig, axis = plt.subplots(linhas, colunas, figsize=(20, 10), sharey=True)\n",
    "            fig.suptitle(f'{titulo}')\n",
    "            k = 0\n",
    "            for i in np.arange(linhas):\n",
    "                for j in np.arange(colunas):\n",
    "                    ax = sns.countplot(x = lista_variaveis[k], data = df, orient = 'h', ax = axis[i], hue = hue)\n",
    "                    ax.set_xlabel(f'{lista_variaveis[k]}', fontsize = 14)\n",
    "                    ax.set_ylabel(f'Quantidade', fontsize = 14)\n",
    "                    total = []\n",
    "                    for bar in ax.patches:\n",
    "                        height = bar.get_height()\n",
    "                        total.append(height)\n",
    "                    total = builtins.sum(total)\n",
    "                    \n",
    "                    sizes = []\n",
    "                    for bar in ax.patches:\n",
    "                        height = bar.get_height()\n",
    "                        sizes.append(height)\n",
    "                        ax.text(bar.get_x() + bar.get_width()/1.6,\n",
    "                                height,\n",
    "                                f'{builtins.round((height/total)*100, 2)}%',\n",
    "                                ha = 'center',\n",
    "                                fontsize = 12\n",
    "                        )\n",
    "                    ax.set_ylim(0, builtins.max(sizes)*1.1)\n",
    "                    k = k + 1\n",
    "        else: \n",
    "            fig, axis = plt.subplots(linhas, colunas, figsize=(20, 10), sharey=True)\n",
    "            fig.suptitle(f'{titulo}')\n",
    "            k = 0\n",
    "            for i in np.arange(linhas):\n",
    "                for j in np.arange(colunas):\n",
    "                    ax = sns.countplot(x = lista_variaveis[k], data = df, orient = 'h', ax = axis[i, j], hue = hue)\n",
    "                    ax.set_xlabel(f'{lista_variaveis[k]}', fontsize = 14)\n",
    "                    ax.set_ylabel(f'Quantidade', fontsize = 14)\n",
    "                    total = []\n",
    "                    for bar in ax.patches:\n",
    "                        height = bar.get_height()\n",
    "                        total.append(height)\n",
    "                    total = builtins.sum(total)\n",
    "                    \n",
    "                    sizes = []\n",
    "                    for bar in ax.patches:\n",
    "                        height = bar.get_height()\n",
    "                        sizes.append(height)\n",
    "                        ax.text(bar.get_x() + bar.get_width()/1.6,\n",
    "                                height,\n",
    "                                f'{builtins.round((height/total)*100, 2)}%',\n",
    "                                ha = 'center',\n",
    "                                fontsize = 12\n",
    "                        )\n",
    "                    ax.set_ylim(0, builtins.max(sizes)*1.1)\n",
    "                    k = k + 1\n",
    "    else:\n",
    "        if (linhas == 1) and (colunas == 1):\n",
    "            k = 0\n",
    "            ax = sns.countplot(x = lista_variaveis[k], data = df, orient = 'h', color='#1FB3E5')\n",
    "            ax.set_title(f'{titulo}')\n",
    "            ax.set_xlabel(f'{lista_variaveis[k]}', fontsize = 14)\n",
    "            ax.set_ylabel(f'Quantidade', fontsize = 14)\n",
    "            total = []\n",
    "            for bar in ax.patches:\n",
    "                height = bar.get_height()\n",
    "                total.append(height)\n",
    "            total = builtins.sum(total)\n",
    "            \n",
    "            sizes = []\n",
    "            for bar in ax.patches:\n",
    "                height = bar.get_height()\n",
    "                sizes.append(height)\n",
    "                ax.text(bar.get_x() + bar.get_width()/1.6,\n",
    "                        height,\n",
    "                        f'{builtins.round((height/total)*100, 2)}%',\n",
    "                        ha = 'center',\n",
    "                        fontsize = 12\n",
    "                )\n",
    "            ax.set_ylim(0, builtins.max(sizes)*1.1)\n",
    "            plt.show()\n",
    "\n",
    "        elif linhas == 1:\n",
    "            fig, axis = plt.subplots(linhas, colunas, figsize=(20, 10), sharey=True)\n",
    "            fig.suptitle(f'{titulo}')\n",
    "            k = 0\n",
    "            for i in np.arange(linhas):\n",
    "                for j in np.arange(colunas):\n",
    "                    ax = sns.countplot(x = lista_variaveis[k], data = df, orient = 'h', ax = axis[j], color='#1FB3E5')\n",
    "                    ax.set_xlabel(f'{lista_variaveis[k]}', fontsize = 14)\n",
    "                    ax.set_ylabel(f'Quantidade', fontsize = 14)\n",
    "                    total = []\n",
    "                    for bar in ax.patches:\n",
    "                        height = bar.get_height()\n",
    "                        total.append(height)\n",
    "                    total = builtins.sum(total)\n",
    "                    \n",
    "                    sizes = []\n",
    "                    for bar in ax.patches:\n",
    "                        height = bar.get_height()\n",
    "                        sizes.append(height)\n",
    "                        ax.text(bar.get_x() + bar.get_width()/1.6,\n",
    "                                height,\n",
    "                                f'{builtins.round((height/total)*100, 2)}%',\n",
    "                                ha = 'center',\n",
    "                                fontsize = 12\n",
    "                        )\n",
    "                    ax.set_ylim(0, builtins.max(sizes)*1.1)\n",
    "                    k = k + 1\n",
    "        elif colunas == 1:\n",
    "            fig, axis = plt.subplots(linhas, colunas, figsize=(20, 10), sharey=True)\n",
    "            fig.suptitle(f'{titulo}')\n",
    "            k = 0\n",
    "            for i in np.arange(linhas):\n",
    "                for j in np.arange(colunas):\n",
    "                    ax = sns.countplot(x = lista_variaveis[k], data = df, orient = 'h', ax = axis[i], color='#1FB3E5')\n",
    "                    ax.set_xlabel(f'{lista_variaveis[k]}', fontsize = 14)\n",
    "                    ax.set_ylabel(f'Quantidade', fontsize = 14)\n",
    "                    total = []\n",
    "                    for bar in ax.patches:\n",
    "                        height = bar.get_height()\n",
    "                        total.append(height)\n",
    "                    total = builtins.sum(total)\n",
    "                    \n",
    "                    sizes = []\n",
    "                    for bar in ax.patches:\n",
    "                        height = bar.get_height()\n",
    "                        sizes.append(height)\n",
    "                        ax.text(bar.get_x() + bar.get_width()/1.6,\n",
    "                                height,\n",
    "                                f'{builtins.round((height/total)*100, 2)}%',\n",
    "                                ha = 'center',\n",
    "                                fontsize = 12\n",
    "                        )\n",
    "                    ax.set_ylim(0, builtins.max(sizes)*1.1)\n",
    "                    k = k + 1\n",
    "        else:\n",
    "            fig, axis = plt.subplots(linhas, colunas, figsize=(20, 10), sharey=True)\n",
    "            fig.suptitle(f'{titulo}')\n",
    "            k = 0\n",
    "            for i in np.arange(linhas):\n",
    "                for j in np.arange(colunas):\n",
    "                    ax = sns.countplot(x = lista_variaveis[k], data = df, orient = 'h', ax = axis[i, j], color='#1FB3E5')\n",
    "                    ax.set_xlabel(f'{lista_variaveis[k]}', fontsize = 14)\n",
    "                    ax.set_ylabel(f'Quantidade', fontsize = 14)\n",
    "                    total = []\n",
    "                    for bar in ax.patches:\n",
    "                        height = bar.get_height()\n",
    "                        total.append(height)\n",
    "                    total = builtins.sum(total)\n",
    "                    \n",
    "                    sizes = []\n",
    "                    for bar in ax.patches:\n",
    "                        height = bar.get_height()\n",
    "                        sizes.append(height)\n",
    "                        ax.text(bar.get_x() + bar.get_width()/1.6,\n",
    "                                height,\n",
    "                                f'{builtins.round((height/total)*100, 2)}%',\n",
    "                                ha = 'center',\n",
    "                                fontsize = 12\n",
    "                        )\n",
    "                    ax.set_ylim(0, builtins.max(sizes)*1.1)\n",
    "                    k = k + 1\n"
   ]
  },
  {
   "attachments": {},
   "cell_type": "markdown",
   "metadata": {},
   "source": [
    "* Plota Histogramas "
   ]
  },
  {
   "cell_type": "code",
   "execution_count": 36,
   "metadata": {},
   "outputs": [],
   "source": [
    "def plota_histograma(lista_variaveis, df, linhas, colunas, titulo):\n",
    "    if (linhas == 1) and (colunas == 1): \n",
    "        k = 0\n",
    "        mediana = df[lista_variaveis[k]].median()\n",
    "        media = df[lista_variaveis[k]].mean().round()\n",
    "        plt.figure(figsize = (14, 7))\n",
    "        ax = sns.histplot(x = lista_variaveis[k], data = df, color = '#1FB3E5', bins = 30)\n",
    "        ax.set_title(f'{titulo}')\n",
    "        ax.set_xlabel(f'{lista_variaveis[k]}', fontsize = 14)\n",
    "        ax.set_ylabel(f'Frequência', fontsize = 14)\n",
    "        ax.axvline(x = mediana, ymax = 0.75 ,color = '#231F20', linestyle = '-', label = f'mediana = {mediana}')\n",
    "        ax.axvline(x = media, ymax = 0.75,color = '#231F20', linestyle = '--', label = f'media = {media}')\n",
    "        plt.ticklabel_format(style='plain')\n",
    "        plt.legend(loc = 'best')\n",
    "        plt.show()\n",
    "    elif linhas == 1:\n",
    "        fig, axis = plt.subplots(linhas, colunas, figsize = (14, 7), sharey = True)\n",
    "        fig.suptitle(f'{titulo}')\n",
    "        k = 0\n",
    "        for i in np.arange(linhas):\n",
    "            for j in np.arange(colunas):\n",
    "                mediana = df[lista_variaveis[k]].median()\n",
    "                media = df[lista_variaveis[k]].mean().round()\n",
    "                ax = sns.histplot(x = lista_variaveis[k], data = df, color = '#1FB3E5', ax = axis[j], bins = 30)\n",
    "                ax.set_xlabel(f'{lista_variaveis[k]}', fontsize = 14)\n",
    "                ax.set_ylabel(f'Frequência', fontsize = 14)\n",
    "                ax.axvline(x = mediana, ymax = 0.75 ,color = '#231F20', linestyle = '-', label = f'mediana = {mediana}')\n",
    "                ax.axvline(x = media, ymax = 0.75,color = '#231F20', linestyle = '--', label = f'media = {media}')\n",
    "                ax.ticklabel_format(style='plain')\n",
    "                ax.legend(loc = 'best')\n",
    "                k = k + 1\n",
    "    elif colunas == 1:\n",
    "        fig, axis = plt.subplots(linhas, colunas, figsize = (14, 7), sharey = True)\n",
    "        fig.suptitle(f'{titulo}')\n",
    "        k = 0\n",
    "        for i in np.arange(linhas):\n",
    "            for j in np.arange(colunas):\n",
    "                mediana = df[lista_variaveis[k]].median()\n",
    "                media = df[lista_variaveis[k]].mean().round()\n",
    "                ax = sns.histplot(x = lista_variaveis[k], data = df, color = '#1FB3E5', ax = axis[i], bins = 30)\n",
    "                ax.set_xlabel(f'{lista_variaveis[k]}', fontsize = 14)\n",
    "                ax.set_ylabel(f'Frequência', fontsize = 14)\n",
    "                ax.axvline(x = mediana, ymax = 0.75 ,color = '#231F20', linestyle = '-', label = f'mediana = {mediana}')\n",
    "                ax.axvline(x = media, ymax = 0.75,color = '#231F20', linestyle = '--', label = f'media = {media}')\n",
    "                ax.ticklabel_format(style='plain')\n",
    "                ax.legend(loc = 'best')\n",
    "                k = k + 1\n",
    "    else:\n",
    "        fig, axis = plt.subplots(linhas, colunas, figsize = (14, 7), sharey = True)\n",
    "        fig.suptitle(f'{titulo}')\n",
    "        k = 0\n",
    "        for i in np.arange(linhas):\n",
    "            for j in np.arange(colunas):\n",
    "                mediana = df[lista_variaveis[k]].median()\n",
    "                media = df[lista_variaveis[k]].mean().round()\n",
    "                ax = sns.histplot(x = lista_variaveis[k], data = df, color = '#1FB3E5', ax = axis[i, j], bins = 30)\n",
    "                ax.set_xlabel(f'{lista_variaveis[k]}', fontsize = 14)\n",
    "                ax.set_ylabel(f'Frequência', fontsize = 14)\n",
    "                ax.axvline(x = mediana, ymax = 0.75 ,color = '#231F20', linestyle = '-', label = f'mediana = {mediana}')\n",
    "                ax.axvline(x = media, ymax = 0.75,color = '#231F20', linestyle = '--', label = f'media = {media}')\n",
    "                ax.ticklabel_format(style='plain')\n",
    "                ax.legend(loc = 'best')\n",
    "                k = k + 1"
   ]
  },
  {
   "attachments": {},
   "cell_type": "markdown",
   "metadata": {},
   "source": [
    "* Plota Boxplot"
   ]
  },
  {
   "cell_type": "code",
   "execution_count": 37,
   "metadata": {},
   "outputs": [],
   "source": [
    "def plota_boxplot(lista_variaveis, df, linhas, colunas, titulo):\n",
    "    if (linhas == 1) and (colunas == 1): \n",
    "        k = 0\n",
    "        plt.figure(figsize = (14, 10))\n",
    "        ax = sns.boxplot(x = lista_variaveis[k], data = df, color = '#1FB3E5', orient = 'h')\n",
    "        ax.set_title(f'{titulo}')\n",
    "        ax.set_xlabel(f'{lista_variaveis[k]}', fontsize = 14)\n",
    "        ax.set_ylabel(f'Frequência', fontsize = 14)\n",
    "        plt.show()\n",
    "    elif linhas == 1:\n",
    "        fig, axis = plt.subplots(linhas, colunas, figsize = (14, 10), sharey = True)\n",
    "        k = 0\n",
    "        for i in np.arange(linhas):\n",
    "            for j in np.arange(colunas):\n",
    "                ax = sns.boxplot(x = lista_variaveis[k], data = df, color = '#1FB3E5', ax = axis[j], orient = 'h')\n",
    "                ax.set_title(f'{titulo}')\n",
    "                ax.set_xlabel(f'{lista_variaveis[k]}', fontsize = 14)\n",
    "                ax.set_ylabel(f'Frequência', fontsize = 14)\n",
    "                k = k + 1\n",
    "    elif colunas == 1:\n",
    "        fig, axis = plt.subplots(linhas, colunas, figsize = (14, 10), sharey = True)\n",
    "        k = 0\n",
    "        for i in np.arange(linhas):\n",
    "            for j in np.arange(colunas):\n",
    "                ax = sns.boxplot(x = lista_variaveis[k], data = df, color = '#1FB3E5', ax = axis[i], orient = 'h')\n",
    "                ax.set_title(f'{titulo}')\n",
    "                ax.set_xlabel(f'{lista_variaveis[k]}', fontsize = 14)\n",
    "                ax.set_ylabel(f'Frequência', fontsize = 14)\n",
    "                k = k + 1\n",
    "    else:\n",
    "        fig, axis = plt.subplots(linhas, colunas, figsize = (14, 10), sharey = True)\n",
    "        k = 0\n",
    "        for i in np.arange(linhas):\n",
    "            for j in np.arange(colunas):\n",
    "                ax = sns.boxplot(x = lista_variaveis[k], data = df, color = '#1FB3E5', ax = axis[i, j], orient = 'h')\n",
    "                ax.set_title(f'{titulo}')\n",
    "                ax.set_xlabel(f'{lista_variaveis[k]}', fontsize = 14)\n",
    "                ax.set_ylabel(f'Frequência', fontsize = 14)\n",
    "                k = k + 1"
   ]
  },
  {
   "attachments": {},
   "cell_type": "markdown",
   "metadata": {},
   "source": [
    "## Funções de Estatística"
   ]
  },
  {
   "attachments": {},
   "cell_type": "markdown",
   "metadata": {},
   "source": [
    "* Analisa Correlação"
   ]
  },
  {
   "cell_type": "code",
   "execution_count": 38,
   "metadata": {},
   "outputs": [],
   "source": [
    "def analisa_correlacao(metodo, df):\n",
    "    plt.figure(figsize = (10, 5))\n",
    "    sns.heatmap(df.corr(method = metodo), vmin = -1, vmax = 1, cmap = 'magma', annot = True)\n",
    "    plt.title(f\"Analisando Correlação de {metodo}\")\n",
    "    plt.grid(False)\n",
    "    plt.box(False)\n",
    "    plt.tight_layout()\n",
    "    plt.grid(False)\n",
    "    plt.show()"
   ]
  },
  {
   "attachments": {},
   "cell_type": "markdown",
   "metadata": {},
   "source": [
    "* Analisa Normalidade "
   ]
  },
  {
   "cell_type": "code",
   "execution_count": 39,
   "metadata": {},
   "outputs": [],
   "source": [
    "def analisa_normalidade(amostra1, amostra2, variavel):\n",
    "\n",
    "    normaltest_amostra_1 = normaltest(amostra1[variavel])\n",
    "    normaltest_amostra_2 = normaltest(amostra2[variavel])\n",
    "\n",
    "    if (normaltest_amostra_1[1] < 0.05 ) and (normaltest_amostra_2[1] < 0.05):\n",
    "        print(f'Pelo Teste de Hipótese, A Hipótese Nula de que a variável \"{variavel}\" segue uma Distribuição Normal é REJEITADA!')\n",
    "    else:\n",
    "        print(f'Pelo Teste de Hipótese, A Hipótese Nula de  que a variável \"{variavel}\" segue uma Distribuição Normal é ACEITA')\n",
    "\n",
    "    ax1 = plt.subplot(121)\n",
    "    stats.probplot(amostra1[variavel], dist = 'norm', plot = plt)\n",
    "    plt.title(f'Amostra 1', fontsize = 14)\n",
    "    plt.grid(False)\n",
    "    plt.box(False)\n",
    "    plt.tight_layout()\n",
    "    ax1 = plt.subplot(122)\n",
    "    stats.probplot(amostra2[variavel], dist = 'norm', plot = plt)\n",
    "    plt.title(f'Amostra 2', fontsize = 14)\n",
    "    plt.grid(False)\n",
    "    plt.box(False)\n",
    "    plt.tight_layout()\n",
    "\n",
    "    plt.show()"
   ]
  },
  {
   "attachments": {},
   "cell_type": "markdown",
   "metadata": {},
   "source": [
    "* Teste de Hipótese para Duas Amostras Independentes "
   ]
  },
  {
   "cell_type": "code",
   "execution_count": 40,
   "metadata": {},
   "outputs": [],
   "source": [
    "def teste_hipotese_duas_amostras_independentes(parametrico, amostra1, amostra2, variavel):\n",
    "    media_amostra_1 = amostra1[variavel].mean()\n",
    "    media_amostra_2 = amostra2[variavel].mean()\n",
    "    mediana_amostra_1 = amostra1[variavel].median()\n",
    "    mediana_amostra_2 = amostra2[variavel].median()\n",
    "\n",
    "    if parametrico == True: \n",
    "        print(f'Média Amostra 1: {media_amostra_1}')\n",
    "        print(f'Média Amostra 2: {media_amostra_2}')\n",
    "        stat, p_value = ztest(amostra1[variavel], amostra2[variavel]) \n",
    "        if p_value > 0.05:\n",
    "            print(f'Pelo Teste de Hipótese Z, não há diferença significativa entre as médias da Amostra 1 e Amostra 2')\n",
    "        else:\n",
    "            print(f'Pelo Teste de Hipótese Z, há diferença significativa entre as médias da Amostra 1 e Amostra 2')\n",
    "    else:\n",
    "        print(f'Mediana Amostra 1: {mediana_amostra_1}')\n",
    "        print(f'Mediana Amostra 2: {mediana_amostra_2}')\n",
    "        stat, p_value = stats.mannwhitneyu(amostra1[variavel], amostra2[variavel]) \n",
    "        if p_value > 0.05:\n",
    "            print(f'Pelo Teste de Hipótese de Mann Whitney, não há diferença significativa entre as medianas da Amostra 1 e Amostra 2')\n",
    "        else:\n",
    "            print(f'Pelo Teste de Hipótese de Mann Whitney, há diferença significativa entre as medianas da Amostra 1 e Amostra 2')"
   ]
  },
  {
   "attachments": {},
   "cell_type": "markdown",
   "metadata": {},
   "source": [
    "## Funções de Pré-Processamento"
   ]
  },
  {
   "attachments": {},
   "cell_type": "markdown",
   "metadata": {},
   "source": [
    "* Separa entre Features e Target "
   ]
  },
  {
   "cell_type": "code",
   "execution_count": 41,
   "metadata": {},
   "outputs": [],
   "source": [
    "def separa_feature_target(target, dados):\n",
    "    x = dados.drop(target, axis = 1)\n",
    "    y = dados[[target]]\n",
    "\n",
    "    return x, y"
   ]
  },
  {
   "attachments": {},
   "cell_type": "markdown",
   "metadata": {},
   "source": [
    "* Separa entre Treino e Teste"
   ]
  },
  {
   "cell_type": "code",
   "execution_count": 42,
   "metadata": {},
   "outputs": [],
   "source": [
    "def separa_treino_teste(target, dados, size):\n",
    "    x = dados.drop(target, axis = 1)\n",
    "    y = dados[target]\n",
    "    x_train, x_test, y_train, y_test = train_test_split(x, y, test_size= size, random_state = 42)\n",
    "\n",
    "    df_train = pd.concat([x_train, y_train], axis = 1)\n",
    "    df_test = pd.concat([x_test, y_test], axis = 1)\n",
    "\n",
    "    return df_train, df_test"
   ]
  },
  {
   "attachments": {},
   "cell_type": "markdown",
   "metadata": {},
   "source": [
    "- Remove Features de baixa Variância"
   ]
  },
  {
   "cell_type": "code",
   "execution_count": 43,
   "metadata": {},
   "outputs": [],
   "source": [
    "def remove_features_baixa_variancia(target, df, threshold):\n",
    "    target_column = df[target]\n",
    "    features = df.drop(target, axis=1)\n",
    "\n",
    "    selector = VarianceThreshold(threshold=threshold)\n",
    "    features_filtered = selector.fit_transform(features)\n",
    "\n",
    "    feature_indices = selector.get_support(indices=True)\n",
    "    selected_features = features.columns[feature_indices]\n",
    "    selected_features = selected_features.append(pd.Index([target]))\n",
    "\n",
    "    return selected_features.tolist()"
   ]
  },
  {
   "attachments": {},
   "cell_type": "markdown",
   "metadata": {},
   "source": [
    "- Remove Features com Ruído"
   ]
  },
  {
   "cell_type": "code",
   "execution_count": null,
   "metadata": {},
   "outputs": [],
   "source": [
    "def remove_features_com_ruido(target, df):\n",
    "    target_column = df[target]\n",
    "    features = df.drop(target, axis=1)\n",
    "\n",
    "    selected_features = [col for col in features.columns if (features[col].mean() > 0) or (features[col].min() > 0)]\n",
    "    selected_features = selected_features + [target]\n",
    "\n",
    "    return selected_features"
   ]
  },
  {
   "attachments": {},
   "cell_type": "markdown",
   "metadata": {},
   "source": [
    "- Remove Features com Base no teste estatístico de interesse "
   ]
  },
  {
   "cell_type": "code",
   "execution_count": null,
   "metadata": {},
   "outputs": [],
   "source": [
    "def Select_K_Best(target, df_train, score_func, k):\n",
    "    x_train = separa_feature_target(target, df_train)[0]\n",
    "    y_train = separa_feature_target(target, df_train)[1]\n",
    "\n",
    "    # Seleciona as k melhores features baseadas no teste qui-quadrado\n",
    "    kbest_selector = SelectKBest(score_func=score_func, k=k)\n",
    "    x_train_selected = kbest_selector.fit_transform(x_train, y_train)\n",
    "\n",
    "    # Obtém os índices das colunas selecionadas\n",
    "    feature_indices = kbest_selector.get_support(indices=True)\n",
    "\n",
    "    # Obtém os nomes das colunas selecionadas\n",
    "    selected_features = list(x_train.columns[feature_indices])\n",
    "    selected_features.append(target)\n",
    "\n",
    "    return selected_features\n"
   ]
  },
  {
   "attachments": {},
   "cell_type": "markdown",
   "metadata": {},
   "source": [
    "## Funções de Métricas ou Avaliação"
   ]
  },
  {
   "attachments": {},
   "cell_type": "markdown",
   "metadata": {},
   "source": [
    "- KS"
   ]
  },
  {
   "cell_type": "code",
   "execution_count": 44,
   "metadata": {},
   "outputs": [],
   "source": [
    "def calculate_ks(classificador, y_predict_proba):\n",
    "    # Cria um DataFrame com a coluna y_predict_proba\n",
    "    df = pd.DataFrame({'y_predict_proba': y_predict_proba})\n",
    "\n",
    "    # Define os decis para as faixas\n",
    "    deciles = [0.1, 0.2, 0.3, 0.4, 0.5, 0.6, 0.7, 0.8, 0.9, 1.0]\n",
    "\n",
    "    # Calcula as proporções acumuladas de negativos (classe 0) e positivos (classe 1) para cada faixa de decil\n",
    "    df['decile_range'] = pd.qcut(df['y_predict_proba'], q=deciles, labels=False)\n",
    "    df_grouped = df.groupby('decile_range').agg({'y_predict_proba': ['count', 'sum']}).reset_index()\n",
    "    df_grouped.columns = ['decile_range', 'count', 'sum']\n",
    "    df_grouped['cumulative_negative'] = df_grouped['count'].cumsum() - df_grouped['count']\n",
    "    df_grouped['cumulative_positive'] = df_grouped['sum'].cumsum()\n",
    "    df_grouped['cumulative_negative_ratio'] = df_grouped['cumulative_negative'] / df_grouped['cumulative_negative'].max()\n",
    "    df_grouped['cumulative_positive_ratio'] = df_grouped['cumulative_positive'] / df_grouped['cumulative_positive'].max()\n",
    "    df_grouped['ks'] = (np.abs(df_grouped['cumulative_positive_ratio'] - df_grouped['cumulative_negative_ratio']))*100\n",
    "\n",
    "    # Tabela de valores de KS para cada faixa de decil\n",
    "    ks_table = df_grouped[['decile_range', 'ks']]\n",
    "    ks_table['decile_range'] = ks_table['decile_range'].apply(lambda x: f'{x*10}-{(x*10)+10}')\n",
    "\n",
    "    return ks_table, round(ks_table['ks'].max(), 2)\n"
   ]
  },
  {
   "attachments": {},
   "cell_type": "markdown",
   "metadata": {},
   "source": [
    "* Métricas Gerais"
   ]
  },
  {
   "cell_type": "code",
   "execution_count": 45,
   "metadata": {},
   "outputs": [],
   "source": [
    "def metricas_classificacao(classificador, y_train, y_predict_train, y_test, y_predict_test):\n",
    "    accuracy = accuracy_score(y_train, y_predict_train)\n",
    "    precision = precision_score(y_train, y_predict_train)\n",
    "    recall = recall_score(y_train, y_predict_train)\n",
    "    f1 = f1_score(y_train, y_predict_train)\n",
    "    metricas_treino = pd.DataFrame({'Acuracia':accuracy, 'Precisao':precision, 'Recall':recall, 'F1':f1, 'Etapa':'treino','Classificador':classificador}, index = np.arange(1))\n",
    "    \n",
    "    accuracy = accuracy_score(y_test, y_predict_test)\n",
    "    precision = precision_score(y_test, y_predict_test)\n",
    "    recall = recall_score(y_test, y_predict_test)\n",
    "    f1 = f1_score(y_test, y_predict_test)\n",
    "    metricas_teste = pd.DataFrame({'Acuracia':accuracy, 'Precisao':precision, 'Recall':recall, 'F1':f1, 'Etapa':'teste','Classificador':classificador}, index = np.arange(1, 2))\n",
    "    \n",
    "    metricas_finais = pd.concat([metricas_treino, metricas_teste])\n",
    "\n",
    "    return metricas_finais"
   ]
  },
  {
   "attachments": {},
   "cell_type": "markdown",
   "metadata": {},
   "source": [
    "* Validação Cruzada "
   ]
  },
  {
   "cell_type": "code",
   "execution_count": 127,
   "metadata": {},
   "outputs": [],
   "source": [
    "def validacao_cruzada_classificacao(classificador, x_train, y_train, class_weight, n_splits):\n",
    "    numericas = [column for column in x_train.columns if (x_train[column].dtype.name == 'int64') or (x_train[column].dtype.name == 'float64')]\n",
    "\n",
    "    kfold = KFold(n_splits=n_splits, shuffle=True, random_state=42)\n",
    "    models = {\n",
    "        'Regressão Logística': make_pipeline(\n",
    "            ColumnTransformer([\n",
    "                ('num', make_pipeline(SimpleImputer(strategy='median'), StandardScaler()), numericas)\n",
    "                ]),\n",
    "            LogisticRegression(random_state=42, class_weight={0:1, 1:class_weight})\n",
    "        ),\n",
    "        'Random Forest': make_pipeline(\n",
    "            ColumnTransformer([\n",
    "                ('num', make_pipeline(SimpleImputer(strategy='median')), numericas)\n",
    "                ]),\n",
    "            RandomForestClassifier(random_state=42, criterion='log_loss', n_estimators=50, max_depth=5, class_weight={0:1, 1:class_weight})\n",
    "        ),\n",
    "        'XGBoost': make_pipeline(\n",
    "            ColumnTransformer([\n",
    "                ('num', make_pipeline(SimpleImputer(strategy='median')), numericas)\n",
    "                ]),\n",
    "            XGBClassifier(random_state=42, n_estimators=20, max_depth=5, learning_rate=0.01, eval_metric='logloss', objective='binary:logistic', reg_alpha = 1, reg_lambda = 1, gamma = 1, colsample_bytree = 0.5, subsample = 0.5, scale_pos_weight = class_weight)\n",
    "        )\n",
    "    }\n",
    "\n",
    "    if classificador in models:\n",
    "        model = models[classificador]\n",
    "    else:\n",
    "        print('Utilize Regressão Logística, Random Forest ou XGBoost como opções de Classificadores!')\n",
    "    \n",
    "    scoring = ['accuracy', 'precision', 'recall', 'f1']\n",
    "    scores = cross_validate(model, x_train, y_train, cv=kfold, scoring=scoring, return_train_score=False)\n",
    "    \n",
    "    metricas_finais = pd.DataFrame({\n",
    "        'Acuracia': scores['test_accuracy'].mean(),\n",
    "        'Precisao': scores['test_precision'].mean(),\n",
    "        'Recall': scores['test_recall'].mean(),\n",
    "        'F1': scores['test_f1'].mean(),\n",
    "        'Etapa': 'validacao_cruzada',\n",
    "        'Classificador': classificador\n",
    "    }, index=[1])\n",
    "    \n",
    "    return metricas_finais\n"
   ]
  },
  {
   "attachments": {},
   "cell_type": "markdown",
   "metadata": {},
   "source": [
    "- Junção de Matrizes "
   ]
  },
  {
   "cell_type": "code",
   "execution_count": 47,
   "metadata": {},
   "outputs": [],
   "source": [
    "def metricas_classificacao_modelos_juntos(lista_modelos):\n",
    "    metricas_modelos = pd.concat(lista_modelos).set_index('Classificador')\n",
    "    return metricas_modelos"
   ]
  },
  {
   "attachments": {},
   "cell_type": "markdown",
   "metadata": {},
   "source": [
    "- Retorno Financeiro"
   ]
  },
  {
   "cell_type": "code",
   "execution_count": 48,
   "metadata": {},
   "outputs": [],
   "source": [
    "def retorno_financeiro(target, y_true, y_predict):\n",
    "    df = pd.DataFrame({'y_true':y_true[target].values, 'y_predict':y_predict})\n",
    "\n",
    "    TN = df.loc[(df['y_true'] == 0) & (df['y_predict'] == 0)].shape[0]\n",
    "    FN = df.loc[(df['y_true'] == 1) & (df['y_predict'] == 0)].shape[0]\n",
    "    FP = df.loc[(df['y_true'] == 0) & (df['y_predict'] == 1)].shape[0]\n",
    "    TP = df.loc[(df['y_true'] == 1) & (df['y_predict'] == 1)].shape[0]\n",
    "\n",
    "    matriz_confusao = np.array(\n",
    "        [(TN, FP),\n",
    "        (FN, TP)]\n",
    "    )\n",
    "    matriz_custo_beneficios = np.array(\n",
    "        [(0, 10),\n",
    "        (0, 90)]\n",
    "    )\n",
    "    retorno_financeiro = 'R$' + str(\n",
    "        (matriz_confusao[0, 0]*matriz_custo_beneficios[0, 0]) - (matriz_confusao[0, 1]*matriz_custo_beneficios[0, 1]) - (matriz_confusao[1, 0]*matriz_custo_beneficios[1, 0]) + (matriz_confusao[1, 1]*matriz_custo_beneficios[1, 1])\n",
    "        )\n",
    "    retorno_financeiro_medio = 'R$' + str(\n",
    "        ((matriz_confusao[0, 0]*matriz_custo_beneficios[0, 0]) - (matriz_confusao[0, 1]*matriz_custo_beneficios[0, 1]) - (matriz_confusao[1, 0]*matriz_custo_beneficios[1, 0]) + (matriz_confusao[1, 1]*matriz_custo_beneficios[1, 1]))/FN\n",
    "        )\n",
    "    print(f'O retorno financeiro é: {retorno_financeiro}')\n",
    "    print(f'O retorno financeiro médio é: {retorno_financeiro_medio}')"
   ]
  },
  {
   "attachments": {},
   "cell_type": "markdown",
   "metadata": {},
   "source": [
    "## Funções de Machine Learning"
   ]
  },
  {
   "attachments": {},
   "cell_type": "markdown",
   "metadata": {},
   "source": [
    "- Algoritmos de Classificação"
   ]
  },
  {
   "cell_type": "code",
   "execution_count": 124,
   "metadata": {},
   "outputs": [],
   "source": [
    "def Classificador(classificador, x_train, y_train, x_test, y_test, class_weight):\n",
    "    numericas = [column for column in x_train.columns if (x_train[column].dtype.name == 'int64') or (x_train[column].dtype.name == 'float64')]\n",
    "\n",
    "    models = {\n",
    "        'Regressão Logística': make_pipeline(\n",
    "            ColumnTransformer([\n",
    "                ('num', make_pipeline(SimpleImputer(strategy='median'), StandardScaler()), numericas)\n",
    "                ]),\n",
    "            LogisticRegression(random_state=42, class_weight = {0: 1, 1: class_weight})\n",
    "        ),\n",
    "        'Random Forest': make_pipeline(\n",
    "            ColumnTransformer([\n",
    "                ('num', make_pipeline(SimpleImputer(strategy='median')), numericas)\n",
    "                ]),\n",
    "            RandomForestClassifier(random_state=42, criterion='log_loss', n_estimators=50, max_depth=5, class_weight={0:1, 1:class_weight})\n",
    "        ),\n",
    "        'XGBoost': make_pipeline(\n",
    "            ColumnTransformer([\n",
    "                ('num', make_pipeline(SimpleImputer(strategy='median')), numericas)\n",
    "                ]),\n",
    "            XGBClassifier(random_state=42, n_estimators=20, max_depth=5, learning_rate=0.01, eval_metric='logloss', objective='binary:logistic', reg_alpha = 1, reg_lambda = 1, gamma = 1, colsample_bytree = 0.5, subsample = 0.5, scale_pos_weight = class_weight)\n",
    "        )\n",
    "    }\n",
    "\n",
    "    if classificador in models:\n",
    "        model = models[classificador]\n",
    "    else:\n",
    "        print('Utilize Regressão Logística, Random Forest ou XGBoost como opções de Classificadores!')\n",
    "\n",
    "    model.fit(x_train, y_train)\n",
    "    y_pred_train = model.predict(x_train)\n",
    "    y_pred_test = model.predict(x_test)\n",
    "\n",
    "    y_proba_train = model.predict_proba(x_train)\n",
    "    y_proba_test = model.predict_proba(x_test)\n",
    "\n",
    "    return model, y_pred_train, y_pred_test, y_proba_train, y_proba_test\n"
   ]
  },
  {
   "attachments": {},
   "cell_type": "markdown",
   "metadata": {},
   "source": [
    "- Algoritmos de Classificação Otimizados"
   ]
  },
  {
   "cell_type": "code",
   "execution_count": 207,
   "metadata": {},
   "outputs": [],
   "source": [
    "def modelo_otimizado(classificador, x_train, y_train, x_test, y_test):\n",
    "    # Define as colunas categóricas e numéricas\n",
    "    numericas = [column for column in x_train.columns if (x_train[column].dtype.name == 'int64') or (x_train[column].dtype.name == 'float64')]\n",
    "\n",
    "    # Define o ColumnTransformer\n",
    "    preprocessor = ColumnTransformer([\n",
    "        ('num', make_pipeline(SimpleImputer(strategy='median')), numericas)\n",
    "    ])\n",
    "\n",
    "    # Define o modelo de XGBoost com a otimização de hiperparâmetros via BayesSearch\n",
    "    model = make_pipeline(\n",
    "        preprocessor,\n",
    "        BayesSearchCV(\n",
    "            XGBClassifier(random_state=42, eval_metric='logloss', objective='binary:logistic'), # , reg_alpha = 1, reg_lambda = 1, gamma = 1, colsample_bytree = 0.5, subsample = 0.5\n",
    "            {\n",
    "                'n_estimators': (10, 20, 50),\n",
    "                'max_depth': (5, 7, 10),\n",
    "                'learning_rate': (0.01, 0.05),\n",
    "                'reg_alpha':(0.5, 1),\n",
    "                'reg_lambda':(0.5, 1),\n",
    "                'gamma':(0.5, 1),\n",
    "                'colsample_bytree':(0.5, 1),\n",
    "                'subsample':(0.5, 1),\n",
    "                'scale_pos_weight':(10, 12, 14)\n",
    "            },\n",
    "            n_iter=10,\n",
    "            random_state=42,\n",
    "            n_jobs=-1,\n",
    "            scoring='accuracy',\n",
    "            cv=5\n",
    "        )\n",
    "    )\n",
    "\n",
    "    # Treina o modelo\n",
    "    model.fit(x_train, y_train)\n",
    "\n",
    "    y_pred_train = model.predict(x_train)\n",
    "    y_pred_test = model.predict(x_test)\n",
    "\n",
    "    y_proba_train = model.predict_proba(x_train)\n",
    "    y_proba_test = model.predict_proba(x_test)\n",
    "\n",
    "    # Extrai os 20 melhores recursos com base no feature importance\n",
    "    feature_importance = model.named_steps['bayessearchcv'].best_estimator_.feature_importances_\n",
    "    top_20_indices = np.argsort(feature_importance)[::-1][:20]\n",
    "    top_20_features = x_train.columns[top_20_indices]\n",
    "    top_20_importance = feature_importance[top_20_indices]\n",
    "\n",
    "    df_top_20_features = pd.DataFrame({'Feature': top_20_features, 'Importance': top_20_importance})\n",
    "\n",
    "    return model, y_pred_train, y_pred_test, y_proba_train, y_proba_test, model.named_steps['bayessearchcv'].best_params_, df_top_20_features\n"
   ]
  },
  {
   "attachments": {},
   "cell_type": "markdown",
   "metadata": {},
   "source": [
    "* Algoritmo de Clusterização"
   ]
  },
  {
   "cell_type": "code",
   "execution_count": 51,
   "metadata": {},
   "outputs": [],
   "source": [
    "def kmeans_esc(data, features , n_clusters):\n",
    "\n",
    "    scaler = StandardScaler()\n",
    "    padronizado = scaler.fit_transform(data[features])\n",
    "\n",
    "    kmeans = KMeans(n_clusters = n_clusters, init = 'k-means++', random_state = 42, max_iter = 300)\n",
    "    kmeans = kmeans.fit(padronizado)\n",
    "    \n",
    "    clusters = kmeans.labels_ # Clusters para cada um dos registros \n",
    "\n",
    "    return clusters"
   ]
  },
  {
   "attachments": {},
   "cell_type": "markdown",
   "metadata": {},
   "source": [
    "* Definição do Número de Clusters pelo Elbow Method"
   ]
  },
  {
   "cell_type": "code",
   "execution_count": 52,
   "metadata": {},
   "outputs": [],
   "source": [
    "def elbow_method(data, features):\n",
    "    scaler = StandardScaler()\n",
    "    padronizado = scaler.fit_transform(data[features])\n",
    "\n",
    "    wcss = []\n",
    "    for n_clusters in range(1, 11):\n",
    "        kmeans = KMeans(n_clusters=n_clusters, init='k-means++', random_state=42, max_iter=300)\n",
    "        kmeans.fit(padronizado)\n",
    "        wcss.append(kmeans.inertia_)\n",
    "\n",
    "    plt.figure(figsize=(10, 6))\n",
    "    sns.lineplot(range(1, 11), wcss, marker='o', color='orange')\n",
    "    plt.title('O Método Elbow', fontsize=16, fontweight='bold')\n",
    "    plt.xlabel('Número de Clusters', fontsize=12)\n",
    "    plt.ylabel('WCSS (Soma dos Quadrados das Distâncias)', fontsize=12)\n",
    "    plt.xticks(range(1, 11))\n",
    "    plt.yticks(fontsize=10)\n",
    "    plt.grid(True, linestyle='--', linewidth=0.5)\n",
    "    plt.tight_layout()\n",
    "    plt.show()\n"
   ]
  },
  {
   "attachments": {},
   "cell_type": "markdown",
   "metadata": {},
   "source": [
    "* Reordenando Clusters"
   ]
  },
  {
   "cell_type": "code",
   "execution_count": 53,
   "metadata": {},
   "outputs": [],
   "source": [
    "def ordenador_de_cluster(metodo_cluster, variavel, ordem, dados):\n",
    "\n",
    "    media_cluster = dados.groupby(metodo_cluster, as_index = False)[variavel].mean()\n",
    "    score_cluster = media_cluster.sort_values(by = variavel, ascending = ordem)\n",
    "    score_cluster['index'] = media_cluster.index \n",
    "\n",
    "    df_final = dados.merge(score_cluster[[metodo_cluster, 'index']], on = metodo_cluster)\n",
    "    df_final.drop(metodo_cluster, axis = 1, inplace = True)\n",
    "    df_final.rename({'index':metodo_cluster}, axis = 1, inplace = True)\n",
    "\n",
    "\n",
    "    return df_final\n"
   ]
  },
  {
   "attachments": {},
   "cell_type": "markdown",
   "metadata": {},
   "source": [
    "# <font color='red' style='font-size: 40px;'> 1) Divisão Inicial </font>\n",
    "<hr style='border: 2px solid red;'>"
   ]
  },
  {
   "attachments": {},
   "cell_type": "markdown",
   "metadata": {},
   "source": [
    "### 1.1) Separação em Treino, Teste e Validação"
   ]
  },
  {
   "cell_type": "code",
   "execution_count": 54,
   "metadata": {},
   "outputs": [
    {
     "name": "stdout",
     "output_type": "stream",
     "text": [
      "Quantidade de registros Treino: 57015\n",
      "Quantidade de registros Validação: 19005\n",
      "Quantidade de registros Teste: 75818\n"
     ]
    }
   ],
   "source": [
    "# train = pd.read_csv('../100_case_santander/data/train.csv')\n",
    "# test = pd.read_csv('../100_case_santander/data/test.csv')\n",
    "\n",
    "train = pd.read_csv('../100_case_santander/data/santander_train.csv')\n",
    "test = pd.read_csv('../100_case_santander/data/santander_test.csv')\n",
    "\n",
    "train.drop('ID', axis = 1, inplace = True)\n",
    "test.drop('ID', axis = 1, inplace = True)\n",
    "\n",
    "df_train = separa_treino_teste('TARGET', train, 0.25)[0]\n",
    "df_valid = separa_treino_teste('TARGET', train, 0.25)[1]\n",
    "df_test = test.copy()\n",
    "\n",
    "print(f'Quantidade de registros Treino: {df_train.shape[0]}')\n",
    "print(f'Quantidade de registros Validação: {df_valid.shape[0]}')\n",
    "print(f'Quantidade de registros Teste: {df_test.shape[0]}')"
   ]
  },
  {
   "attachments": {},
   "cell_type": "markdown",
   "metadata": {},
   "source": [
    "> 1. Antes de qualquer análise ou modelagem, deve-se separar em Treino, Validação e Teste. \n",
    "\n",
    "> 2. Isso é fundamental para o projeto, pois esta abordagem evita o Data Leakage (Vazamento de Dados)\n",
    "\n",
    "> 3. Dessa forma, teremos três situações:\n",
    "\n",
    "- Treino: Dados usados para Análise Exploratória e Modelagem\n",
    "- Validação: Dados usados para Análise de Desempenho do Modelo\n",
    "- Teste: Predição de Dados nunca vistos anteriormente, simulando um ambiente em produção"
   ]
  },
  {
   "attachments": {},
   "cell_type": "markdown",
   "metadata": {},
   "source": [
    "# <font color='red' style='font-size: 40px;'> 2) Análise Exploratória - Análise Univariada e Bivariada</font>\n",
    "<hr style='border: 2px solid red;'>"
   ]
  },
  {
   "attachments": {},
   "cell_type": "markdown",
   "metadata": {},
   "source": [
    "### 2.2) Análise dos Tipos de Variáveis"
   ]
  },
  {
   "cell_type": "code",
   "execution_count": 55,
   "metadata": {},
   "outputs": [
    {
     "name": "stdout",
     "output_type": "stream",
     "text": [
      "Quantidade de Colunas Qualitativas: 0\n",
      "Quantidade de Colunas Discretas: 256\n",
      "Quantidade de Colunas Continuas: 60\n"
     ]
    }
   ],
   "source": [
    "analytics = df_train.copy()\n",
    "\n",
    "qualitativas = [column for column in analytics.columns if analytics[column].dtype.name == 'object']\n",
    "discretas = [column for column in analytics.columns if analytics[column].nunique() < 100 and analytics[column].dtype.name == 'int64']\n",
    "continuas = [column for column in analytics.columns if analytics[column].nunique() >= 100]\n",
    "\n",
    "print(f'Quantidade de Colunas Qualitativas: {len(qualitativas)}')\n",
    "print(f'Quantidade de Colunas Discretas: {len(discretas)}')\n",
    "print(f'Quantidade de Colunas Continuas: {len(continuas)}')"
   ]
  },
  {
   "attachments": {},
   "cell_type": "markdown",
   "metadata": {},
   "source": [
    "### 2.3) Análise da Qualidade dos Dados"
   ]
  },
  {
   "cell_type": "code",
   "execution_count": 56,
   "metadata": {},
   "outputs": [
    {
     "name": "stdout",
     "output_type": "stream",
     "text": [
      "Quantidade de Dados Nulos: 0\n"
     ]
    }
   ],
   "source": [
    "nulos = analytics.isnull().sum().sum()\n",
    "print(f'Quantidade de Dados Nulos: {nulos}')"
   ]
  },
  {
   "attachments": {},
   "cell_type": "markdown",
   "metadata": {},
   "source": [
    "### 2.4) Análise Univaridada da Target"
   ]
  },
  {
   "cell_type": "code",
   "execution_count": 57,
   "metadata": {},
   "outputs": [
    {
     "data": {
      "image/png": "[encoded data removed]",
      "text/plain": [
       "<Figure size 1000x500 with 1 Axes>"
      ]
     },
     "metadata": {},
     "output_type": "display_data"
    }
   ],
   "source": [
    "plota_barras(['TARGET'], False, analytics, 1, 1, 'Distribuição da Target')"
   ]
  },
  {
   "attachments": {},
   "cell_type": "markdown",
   "metadata": {},
   "source": [
    "> 1. A Target possui um comportamento bem desbalanceado, ou seja, em torno de 96% dos clientes apresentam satisfação, ao passo que 4% apresenta insatisfação."
   ]
  },
  {
   "attachments": {},
   "cell_type": "markdown",
   "metadata": {},
   "source": [
    "### 2.5) Feature Selection Inicial"
   ]
  },
  {
   "cell_type": "code",
   "execution_count": null,
   "metadata": {},
   "outputs": [],
   "source": [
    "analytics_select = analytics[remove_features_baixa_variancia('TARGET', analytics, 0.01)]\n",
    "analytics_select = analytics_select[remove_features_com_ruido('TARGET', analytics_select)]\n",
    "analytics_select = analytics_select[Select_K_Best('TARGET', analytics_select, f_classif, 50)]\n",
    "print(analytics_select.shape)\n",
    "analytics_selected.describe(percentiles=[0.1, 0.2, 0.3, 0.4, 0.5, 0.6, 0.7, 0.8, 0.9, 1])"
   ]
  },
  {
   "cell_type": "code",
   "execution_count": null,
   "metadata": {},
   "outputs": [],
   "source": []
  },
  {
   "attachments": {},
   "cell_type": "markdown",
   "metadata": {},
   "source": [
    "### 2.6) Testando a Hipótese do Público Satisfeito e do Insatisfeito ter comportamentos diferentes"
   ]
  },
  {
   "cell_type": "code",
   "execution_count": null,
   "metadata": {},
   "outputs": [],
   "source": []
  },
  {
   "attachments": {},
   "cell_type": "markdown",
   "metadata": {},
   "source": [
    "# <font color='red' style='font-size: 40px;'> 3) Pré-Processamento e Feature Engineering </font>\n",
    "<hr style='border: 2px solid red;'>"
   ]
  },
  {
   "attachments": {},
   "cell_type": "markdown",
   "metadata": {},
   "source": [
    "### 3.1) Remoção de Features com Baixa Variância ou Ruído"
   ]
  },
  {
   "cell_type": "code",
   "execution_count": 140,
   "metadata": {},
   "outputs": [
    {
     "data": {
      "text/plain": [
       "(57015, 270)"
      ]
     },
     "execution_count": 140,
     "metadata": {},
     "output_type": "execute_result"
    }
   ],
   "source": [
    "df_train = df_train[remove_features_baixa_variancia('TARGET', df_train, 0.01)]\n",
    "df_train = df_train[remove_features_com_ruido('TARGET', df_train)]\n",
    "df_train.shape"
   ]
  },
  {
   "attachments": {},
   "cell_type": "markdown",
   "metadata": {},
   "source": [
    "### 3.2) Seleção de Features com Maior Dependência com a Target"
   ]
  },
  {
   "cell_type": "code",
   "execution_count": 141,
   "metadata": {},
   "outputs": [
    {
     "data": {
      "text/plain": [
       "(57015, 51)"
      ]
     },
     "execution_count": 141,
     "metadata": {},
     "output_type": "execute_result"
    }
   ],
   "source": [
    "df_train = df_train[Select_K_Best('TARGET', df_train, f_classif, 50)]\n",
    "df_train.shape"
   ]
  },
  {
   "attachments": {},
   "cell_type": "markdown",
   "metadata": {},
   "source": [
    "### 3.3) Separação entre Features e Target"
   ]
  },
  {
   "cell_type": "code",
   "execution_count": 142,
   "metadata": {},
   "outputs": [],
   "source": [
    "x_train = separa_feature_target('TARGET', df_train)[0]\n",
    "y_train = separa_feature_target('TARGET', df_train)[1]\n",
    "\n",
    "x_valid = separa_feature_target('TARGET', df_valid)[0]\n",
    "y_valid = separa_feature_target('TARGET', df_valid)[1]"
   ]
  },
  {
   "attachments": {},
   "cell_type": "markdown",
   "metadata": {},
   "source": [
    "# <font color='red' style='font-size: 40px;'> 4) Modelagem </font>\n",
    "<hr style='border: 2px solid red;'>"
   ]
  },
  {
   "attachments": {},
   "cell_type": "markdown",
   "metadata": {},
   "source": [
    "### 4.1) Modelos Baseline "
   ]
  },
  {
   "cell_type": "code",
   "execution_count": 143,
   "metadata": {},
   "outputs": [],
   "source": [
    "# Regressão Logística\n",
    "y_predict_train_reg_logistic = Classificador('Regressão Logística', x_train, y_train, x_valid, y_valid, 10)[1]\n",
    "y_predict_valid_reg_logistic = Classificador('Regressão Logística', x_train, y_train, x_valid, y_valid, 10)[2]\n",
    "y_proba_train_reg_logistic = Classificador('Regressão Logística', x_train, y_train, x_valid, y_valid, 10)[3]\n",
    "y_proba_valid_reg_logistic = Classificador('Regressão Logística', x_train, y_train, x_valid, y_valid, 10)[4]\n",
    "\n",
    "# Random Forest\n",
    "y_predict_train_random_forest = Classificador('Random Forest', x_train, y_train, x_valid, y_valid, 10)[1]\n",
    "y_predict_valid_random_forest = Classificador('Random Forest', x_train, y_train, x_valid, y_valid, 10)[2]\n",
    "y_proba_train_random_forest = Classificador('Random Forest', x_train, y_train, x_valid, y_valid, 10)[3]\n",
    "y_proba_valid_random_forest = Classificador('Random Forest', x_train, y_train, x_valid, y_valid, 10)[4]\n",
    "\n",
    "# XGBoost\n",
    "y_predict_train_xgboost = Classificador('XGBoost', x_train, y_train, x_valid, y_valid, 10)[1]\n",
    "y_predict_valid_xgboost = Classificador('XGBoost', x_train, y_train, x_valid, y_valid, 10)[2]\n",
    "y_proba_train_xgboost = Classificador('XGBoost', x_train, y_train, x_valid, y_valid, 10)[3]\n",
    "y_proba_valid_xgboost = Classificador('XGBoost', x_train, y_train, x_valid, y_valid, 10)[4]"
   ]
  },
  {
   "attachments": {},
   "cell_type": "markdown",
   "metadata": {},
   "source": [
    "> 1. Para a parte de modelagem, escolheu-se três modelos: Regressão Logística, Random Forest e XGBoost \n",
    "\n",
    "> 2. A Regressão Logística foi escolhida por ser um modelo estável e muito tradicional, com boa capacidade de interpretababilidade \n",
    "\n",
    "> 3. A Random Forest é um ensemble o qual utiliza Bagging, portanto, ela reduz expressivamente a variância e previne problemas como Overfitting. \n",
    "\n",
    "> 4. O XGBoost, ao lado do CatBoost, é provavelmente o modelo de Boosting com maior poder preditivo que existe atualmente, permitindo que as previsões sejam muito precisas. "
   ]
  },
  {
   "attachments": {},
   "cell_type": "markdown",
   "metadata": {},
   "source": [
    "### 4.2) Métricas e Retorno Financeiro"
   ]
  },
  {
   "cell_type": "code",
   "execution_count": 152,
   "metadata": {},
   "outputs": [
    {
     "name": "stdout",
     "output_type": "stream",
     "text": [
      "Métricas Finais\n"
     ]
    },
    {
     "data": {
      "text/html": [
       "<div>\n",
       "<style scoped>\n",
       "    .dataframe tbody tr th:only-of-type {\n",
       "        vertical-align: middle;\n",
       "    }\n",
       "\n",
       "    .dataframe tbody tr th {\n",
       "        vertical-align: top;\n",
       "    }\n",
       "\n",
       "    .dataframe thead th {\n",
       "        text-align: right;\n",
       "    }\n",
       "</style>\n",
       "<table border=\"1\" class=\"dataframe\">\n",
       "  <thead>\n",
       "    <tr style=\"text-align: right;\">\n",
       "      <th></th>\n",
       "      <th>Acuracia</th>\n",
       "      <th>Precisao</th>\n",
       "      <th>Recall</th>\n",
       "      <th>F1</th>\n",
       "      <th>Etapa</th>\n",
       "    </tr>\n",
       "    <tr>\n",
       "      <th>Classificador</th>\n",
       "      <th></th>\n",
       "      <th></th>\n",
       "      <th></th>\n",
       "      <th></th>\n",
       "      <th></th>\n",
       "    </tr>\n",
       "  </thead>\n",
       "  <tbody>\n",
       "    <tr>\n",
       "      <th>Regressão Logística</th>\n",
       "      <td>0.89</td>\n",
       "      <td>0.16</td>\n",
       "      <td>0.40</td>\n",
       "      <td>0.23</td>\n",
       "      <td>treino</td>\n",
       "    </tr>\n",
       "    <tr>\n",
       "      <th>Regressão Logística</th>\n",
       "      <td>0.89</td>\n",
       "      <td>0.15</td>\n",
       "      <td>0.38</td>\n",
       "      <td>0.22</td>\n",
       "      <td>teste</td>\n",
       "    </tr>\n",
       "    <tr>\n",
       "      <th>Regressão Logística</th>\n",
       "      <td>0.89</td>\n",
       "      <td>0.16</td>\n",
       "      <td>0.40</td>\n",
       "      <td>0.23</td>\n",
       "      <td>validacao_cruzada</td>\n",
       "    </tr>\n",
       "    <tr>\n",
       "      <th>Random Forest</th>\n",
       "      <td>0.88</td>\n",
       "      <td>0.17</td>\n",
       "      <td>0.54</td>\n",
       "      <td>0.26</td>\n",
       "      <td>treino</td>\n",
       "    </tr>\n",
       "    <tr>\n",
       "      <th>Random Forest</th>\n",
       "      <td>0.88</td>\n",
       "      <td>0.16</td>\n",
       "      <td>0.49</td>\n",
       "      <td>0.24</td>\n",
       "      <td>teste</td>\n",
       "    </tr>\n",
       "    <tr>\n",
       "      <th>Random Forest</th>\n",
       "      <td>0.88</td>\n",
       "      <td>0.17</td>\n",
       "      <td>0.52</td>\n",
       "      <td>0.26</td>\n",
       "      <td>validacao_cruzada</td>\n",
       "    </tr>\n",
       "    <tr>\n",
       "      <th>XGBoost</th>\n",
       "      <td>0.88</td>\n",
       "      <td>0.18</td>\n",
       "      <td>0.55</td>\n",
       "      <td>0.27</td>\n",
       "      <td>treino</td>\n",
       "    </tr>\n",
       "    <tr>\n",
       "      <th>XGBoost</th>\n",
       "      <td>0.88</td>\n",
       "      <td>0.17</td>\n",
       "      <td>0.50</td>\n",
       "      <td>0.25</td>\n",
       "      <td>teste</td>\n",
       "    </tr>\n",
       "    <tr>\n",
       "      <th>XGBoost</th>\n",
       "      <td>0.88</td>\n",
       "      <td>0.17</td>\n",
       "      <td>0.53</td>\n",
       "      <td>0.26</td>\n",
       "      <td>validacao_cruzada</td>\n",
       "    </tr>\n",
       "  </tbody>\n",
       "</table>\n",
       "</div>"
      ],
      "text/plain": [
       "                     Acuracia  Precisao  Recall   F1              Etapa\n",
       "Classificador                                                          \n",
       "Regressão Logística      0.89      0.16    0.40 0.23             treino\n",
       "Regressão Logística      0.89      0.15    0.38 0.22              teste\n",
       "Regressão Logística      0.89      0.16    0.40 0.23  validacao_cruzada\n",
       "Random Forest            0.88      0.17    0.54 0.26             treino\n",
       "Random Forest            0.88      0.16    0.49 0.24              teste\n",
       "Random Forest            0.88      0.17    0.52 0.26  validacao_cruzada\n",
       "XGBoost                  0.88      0.18    0.55 0.27             treino\n",
       "XGBoost                  0.88      0.17    0.50 0.25              teste\n",
       "XGBoost                  0.88      0.17    0.53 0.26  validacao_cruzada"
      ]
     },
     "metadata": {},
     "output_type": "display_data"
    },
    {
     "name": "stdout",
     "output_type": "stream",
     "text": [
      "O retorno financeiro é: R$15010\n",
      "O retorno financeiro médio é: R$39.39632545931759\n"
     ]
    }
   ],
   "source": [
    "# Métricas Modelos\n",
    "\n",
    "metricas_reg_logistic = metricas_classificacao('Regressão Logística', y_train, y_predict_train_reg_logistic, y_valid, y_predict_valid_reg_logistic)\n",
    "metricas_reg_logistic_validacao_cruzada = validacao_cruzada_classificacao('Regressão Logística', x_train, y_train, 10, 5)\n",
    "\n",
    "metricas_random_forest = metricas_classificacao('Random Forest', y_train, y_predict_train_random_forest, y_valid, y_predict_valid_random_forest)\n",
    "metricas_random_forest_validacao_cruzada = validacao_cruzada_classificacao('Random Forest', x_train, y_train, 10, 5)\n",
    "\n",
    "metricas_xgboost = metricas_classificacao('XGBoost', y_train, y_predict_train_xgboost, y_valid, y_predict_valid_xgboost)\n",
    "metricas_xgboost_validacao_cruzada = validacao_cruzada_classificacao('XGBoost', x_train, y_train, 10, 5)\n",
    "\n",
    "# Métricas Finais\n",
    "\n",
    "print('Métricas Finais')\n",
    "metricas_finais = metricas_classificacao_modelos_juntos(\n",
    "    [\n",
    "        metricas_reg_logistic, \n",
    "        metricas_reg_logistic_validacao_cruzada,\n",
    "        metricas_random_forest,\n",
    "        metricas_random_forest_validacao_cruzada,\n",
    "        metricas_xgboost,\n",
    "        metricas_xgboost_validacao_cruzada\n",
    "    ]\n",
    ")\n",
    "display(metricas_finais)\n",
    "# Retorno Financeiro\n",
    "retorno_financeiro('TARGET', y_valid, y_predict_valid_xgboost)"
   ]
  },
  {
   "attachments": {},
   "cell_type": "markdown",
   "metadata": {},
   "source": [
    "> 1. Realizou-se a consolidação das Métricas de Treino, Teste e Validação Cruzada para cada um dos Modelos. \n",
    "\n",
    "> 2. A métrica mais importante para este caso seria o Precision, pois altos valores de Precision significam um menor número de Falsos Positivos, reduzindo os custos de ação \n",
    "\n",
    "> 3. Mesmo com a Precision sendo o principal indicador, o Recall foi a maior métrica devido ao balanceamento de classes. Isso ocorre pois essa técnica proporciona ao modelo a capacidade de penalizar a classe minoritária, portanto, ele passa a acertar mais quem realmente era um cliente insatisfeito, diminuindo drasticamente os Falsos Negativos.\n",
    "\n",
    "> 4. Traduzindo para retorno financeiro, até o presente momento este Modelo conseguiu um valor integral de R$16880, com um retorno médio de clientes insatisfeitos de praticamente R$50,00. Esses valores foram criados exclusivamente com dados de validação.\n",
    "\n",
    "> 5. A próxima etapa é otimizar o Modelo com melhor performance da Baseline."
   ]
  },
  {
   "attachments": {},
   "cell_type": "markdown",
   "metadata": {},
   "source": [
    "### 4.3) Otimização do Modelo Escolhido"
   ]
  },
  {
   "cell_type": "code",
   "execution_count": 215,
   "metadata": {},
   "outputs": [
    {
     "name": "stdout",
     "output_type": "stream",
     "text": [
      "Métricas Finais\n"
     ]
    },
    {
     "data": {
      "text/html": [
       "<div>\n",
       "<style scoped>\n",
       "    .dataframe tbody tr th:only-of-type {\n",
       "        vertical-align: middle;\n",
       "    }\n",
       "\n",
       "    .dataframe tbody tr th {\n",
       "        vertical-align: top;\n",
       "    }\n",
       "\n",
       "    .dataframe thead th {\n",
       "        text-align: right;\n",
       "    }\n",
       "</style>\n",
       "<table border=\"1\" class=\"dataframe\">\n",
       "  <thead>\n",
       "    <tr style=\"text-align: right;\">\n",
       "      <th></th>\n",
       "      <th>Acuracia</th>\n",
       "      <th>Precisao</th>\n",
       "      <th>Recall</th>\n",
       "      <th>F1</th>\n",
       "      <th>Etapa</th>\n",
       "      <th>Classificador</th>\n",
       "    </tr>\n",
       "  </thead>\n",
       "  <tbody>\n",
       "    <tr>\n",
       "      <th>0</th>\n",
       "      <td>0.88</td>\n",
       "      <td>0.18</td>\n",
       "      <td>0.55</td>\n",
       "      <td>0.27</td>\n",
       "      <td>treino</td>\n",
       "      <td>XGBoost</td>\n",
       "    </tr>\n",
       "    <tr>\n",
       "      <th>1</th>\n",
       "      <td>0.88</td>\n",
       "      <td>0.17</td>\n",
       "      <td>0.50</td>\n",
       "      <td>0.25</td>\n",
       "      <td>teste</td>\n",
       "      <td>XGBoost</td>\n",
       "    </tr>\n",
       "  </tbody>\n",
       "</table>\n",
       "</div>"
      ],
      "text/plain": [
       "   Acuracia  Precisao  Recall   F1   Etapa Classificador\n",
       "0      0.88      0.18    0.55 0.27  treino       XGBoost\n",
       "1      0.88      0.17    0.50 0.25   teste       XGBoost"
      ]
     },
     "metadata": {},
     "output_type": "display_data"
    },
    {
     "name": "stdout",
     "output_type": "stream",
     "text": [
      "\n",
      "KS\n"
     ]
    },
    {
     "data": {
      "text/html": [
       "<div>\n",
       "<style scoped>\n",
       "    .dataframe tbody tr th:only-of-type {\n",
       "        vertical-align: middle;\n",
       "    }\n",
       "\n",
       "    .dataframe tbody tr th {\n",
       "        vertical-align: top;\n",
       "    }\n",
       "\n",
       "    .dataframe thead th {\n",
       "        text-align: right;\n",
       "    }\n",
       "</style>\n",
       "<table border=\"1\" class=\"dataframe\">\n",
       "  <thead>\n",
       "    <tr style=\"text-align: right;\">\n",
       "      <th></th>\n",
       "      <th>decile_range</th>\n",
       "      <th>ks</th>\n",
       "    </tr>\n",
       "  </thead>\n",
       "  <tbody>\n",
       "    <tr>\n",
       "      <th>0</th>\n",
       "      <td>0.0-10.0</td>\n",
       "      <td>9.03</td>\n",
       "    </tr>\n",
       "    <tr>\n",
       "      <th>1</th>\n",
       "      <td>10.0-20.0</td>\n",
       "      <td>4.72</td>\n",
       "    </tr>\n",
       "    <tr>\n",
       "      <th>2</th>\n",
       "      <td>20.0-30.0</td>\n",
       "      <td>4.12</td>\n",
       "    </tr>\n",
       "    <tr>\n",
       "      <th>3</th>\n",
       "      <td>30.0-40.0</td>\n",
       "      <td>4.62</td>\n",
       "    </tr>\n",
       "    <tr>\n",
       "      <th>4</th>\n",
       "      <td>40.0-50.0</td>\n",
       "      <td>3.15</td>\n",
       "    </tr>\n",
       "    <tr>\n",
       "      <th>5</th>\n",
       "      <td>50.0-60.0</td>\n",
       "      <td>4.43</td>\n",
       "    </tr>\n",
       "    <tr>\n",
       "      <th>6</th>\n",
       "      <td>60.0-70.0</td>\n",
       "      <td>5.62</td>\n",
       "    </tr>\n",
       "    <tr>\n",
       "      <th>7</th>\n",
       "      <td>70.0-80.0</td>\n",
       "      <td>4.36</td>\n",
       "    </tr>\n",
       "    <tr>\n",
       "      <th>8</th>\n",
       "      <td>80.0-90.0</td>\n",
       "      <td>0.00</td>\n",
       "    </tr>\n",
       "  </tbody>\n",
       "</table>\n",
       "</div>"
      ],
      "text/plain": [
       "  decile_range   ks\n",
       "0     0.0-10.0 9.03\n",
       "1    10.0-20.0 4.72\n",
       "2    20.0-30.0 4.12\n",
       "3    30.0-40.0 4.62\n",
       "4    40.0-50.0 3.15\n",
       "5    50.0-60.0 4.43\n",
       "6    60.0-70.0 5.62\n",
       "7    70.0-80.0 4.36\n",
       "8    80.0-90.0 0.00"
      ]
     },
     "metadata": {},
     "output_type": "display_data"
    },
    {
     "name": "stdout",
     "output_type": "stream",
     "text": [
      "Retorno Financeiro\n",
      "O retorno financeiro é: R$15540\n",
      "O retorno financeiro médio é: R$41.44\n",
      "\n",
      "Melhores Parâmetros: OrderedDict([('colsample_bytree', 0.7717015338451563), ('gamma', 0.9600046132186582), ('learning_rate', 0.029858668143868672), ('max_depth', 10), ('n_estimators', 20), ('reg_alpha', 0.5255672768385259), ('reg_lambda', 0.785388901339449), ('scale_pos_weight', 10), ('subsample', 0.6928647954923324)])\n",
      "\n"
     ]
    },
    {
     "data": {
      "text/html": [
       "<div>\n",
       "<style scoped>\n",
       "    .dataframe tbody tr th:only-of-type {\n",
       "        vertical-align: middle;\n",
       "    }\n",
       "\n",
       "    .dataframe tbody tr th {\n",
       "        vertical-align: top;\n",
       "    }\n",
       "\n",
       "    .dataframe thead th {\n",
       "        text-align: right;\n",
       "    }\n",
       "</style>\n",
       "<table border=\"1\" class=\"dataframe\">\n",
       "  <thead>\n",
       "    <tr style=\"text-align: right;\">\n",
       "      <th></th>\n",
       "      <th>Feature</th>\n",
       "      <th>Importance</th>\n",
       "    </tr>\n",
       "  </thead>\n",
       "  <tbody>\n",
       "    <tr>\n",
       "      <th>0</th>\n",
       "      <td>ind_var30</td>\n",
       "      <td>0.21</td>\n",
       "    </tr>\n",
       "    <tr>\n",
       "      <th>1</th>\n",
       "      <td>var15</td>\n",
       "      <td>0.08</td>\n",
       "    </tr>\n",
       "    <tr>\n",
       "      <th>2</th>\n",
       "      <td>saldo_var30</td>\n",
       "      <td>0.08</td>\n",
       "    </tr>\n",
       "    <tr>\n",
       "      <th>3</th>\n",
       "      <td>num_var30_0</td>\n",
       "      <td>0.05</td>\n",
       "    </tr>\n",
       "    <tr>\n",
       "      <th>4</th>\n",
       "      <td>imp_op_var39_efect_ult1</td>\n",
       "      <td>0.04</td>\n",
       "    </tr>\n",
       "    <tr>\n",
       "      <th>5</th>\n",
       "      <td>num_var5</td>\n",
       "      <td>0.03</td>\n",
       "    </tr>\n",
       "    <tr>\n",
       "      <th>6</th>\n",
       "      <td>num_var4</td>\n",
       "      <td>0.03</td>\n",
       "    </tr>\n",
       "    <tr>\n",
       "      <th>7</th>\n",
       "      <td>imp_op_var41_efect_ult1</td>\n",
       "      <td>0.03</td>\n",
       "    </tr>\n",
       "    <tr>\n",
       "      <th>8</th>\n",
       "      <td>ind_var8_0</td>\n",
       "      <td>0.02</td>\n",
       "    </tr>\n",
       "    <tr>\n",
       "      <th>9</th>\n",
       "      <td>ind_var5_0</td>\n",
       "      <td>0.02</td>\n",
       "    </tr>\n",
       "    <tr>\n",
       "      <th>10</th>\n",
       "      <td>num_var30</td>\n",
       "      <td>0.02</td>\n",
       "    </tr>\n",
       "    <tr>\n",
       "      <th>11</th>\n",
       "      <td>imp_op_var39_ult1</td>\n",
       "      <td>0.02</td>\n",
       "    </tr>\n",
       "    <tr>\n",
       "      <th>12</th>\n",
       "      <td>saldo_var42</td>\n",
       "      <td>0.02</td>\n",
       "    </tr>\n",
       "    <tr>\n",
       "      <th>13</th>\n",
       "      <td>num_var8_0</td>\n",
       "      <td>0.02</td>\n",
       "    </tr>\n",
       "    <tr>\n",
       "      <th>14</th>\n",
       "      <td>num_meses_var5_ult3</td>\n",
       "      <td>0.02</td>\n",
       "    </tr>\n",
       "    <tr>\n",
       "      <th>15</th>\n",
       "      <td>imp_op_var41_ult1</td>\n",
       "      <td>0.02</td>\n",
       "    </tr>\n",
       "    <tr>\n",
       "      <th>16</th>\n",
       "      <td>ind_var12</td>\n",
       "      <td>0.02</td>\n",
       "    </tr>\n",
       "    <tr>\n",
       "      <th>17</th>\n",
       "      <td>ind_var24</td>\n",
       "      <td>0.02</td>\n",
       "    </tr>\n",
       "    <tr>\n",
       "      <th>18</th>\n",
       "      <td>ind_var5</td>\n",
       "      <td>0.02</td>\n",
       "    </tr>\n",
       "    <tr>\n",
       "      <th>19</th>\n",
       "      <td>num_op_var39_efect_ult1</td>\n",
       "      <td>0.02</td>\n",
       "    </tr>\n",
       "  </tbody>\n",
       "</table>\n",
       "</div>"
      ],
      "text/plain": [
       "                    Feature  Importance\n",
       "0                 ind_var30        0.21\n",
       "1                     var15        0.08\n",
       "2               saldo_var30        0.08\n",
       "3               num_var30_0        0.05\n",
       "4   imp_op_var39_efect_ult1        0.04\n",
       "5                  num_var5        0.03\n",
       "6                  num_var4        0.03\n",
       "7   imp_op_var41_efect_ult1        0.03\n",
       "8                ind_var8_0        0.02\n",
       "9                ind_var5_0        0.02\n",
       "10                num_var30        0.02\n",
       "11        imp_op_var39_ult1        0.02\n",
       "12              saldo_var42        0.02\n",
       "13               num_var8_0        0.02\n",
       "14      num_meses_var5_ult3        0.02\n",
       "15        imp_op_var41_ult1        0.02\n",
       "16                ind_var12        0.02\n",
       "17                ind_var24        0.02\n",
       "18                 ind_var5        0.02\n",
       "19  num_op_var39_efect_ult1        0.02"
      ]
     },
     "metadata": {},
     "output_type": "display_data"
    }
   ],
   "source": [
    "# Modelo Otimizado\n",
    "modelo_final = modelo_otimizado('XGBoost', x_train, y_train, x_valid, y_valid)[0]\n",
    "melhores_parametros = modelo_otimizado('XGBoost', x_train, y_train, x_valid, y_valid)[5]\n",
    "melhores_features = modelo_otimizado('XGBoost', x_train, y_train, x_valid, y_valid)[6]\n",
    "\n",
    "y_predict_train_otimizado = modelo_otimizado('XGBoost', x_train, y_train, x_valid, y_valid)[1]\n",
    "y_predict_valid_otimizado = modelo_otimizado('XGBoost', x_train, y_train, x_valid, y_valid)[2]\n",
    "y_proba_train_otimizado = modelo_otimizado('XGBoost', x_train, y_train, x_valid, y_valid)[3]\n",
    "y_proba_valid_otimizado = modelo_otimizado('XGBoost', x_train, y_train, x_valid, y_valid)[4]\n",
    "metricas_otimizadas = metricas_classificacao('XGBoost', y_train, y_predict_train_xgboost, y_valid, y_predict_valid_xgboost)\n",
    "\n",
    "# Métricas Otimizadas\n",
    "print('Métricas Finais')\n",
    "display(metricas_otimizadas)\n",
    "print()\n",
    "\n",
    "# KS\n",
    "print('KS')\n",
    "ks = calculate_ks('XGBoost', y_proba_valid_otimizado[:, -1])[0]\n",
    "display(ks)\n",
    "\n",
    "# Retorno Financeiro\n",
    "print('Retorno Financeiro')\n",
    "retorno_financeiro('TARGET', y_valid, y_predict_valid_otimizado)\n",
    "print()\n",
    "\n",
    "# Melhores Hiperparâmetros e Features\n",
    "print(f'Melhores Parâmetros: {melhores_parametros}')\n",
    "print()\n",
    "display(melhores_features)"
   ]
  },
  {
   "attachments": {},
   "cell_type": "markdown",
   "metadata": {},
   "source": [
    "> 1. Optou-se por utilizar um Algoritmo de Busca Bayesiana para achar a melhor combinação de hiperparâmetros\n",
    "\n",
    "> 2. Esse algoritmo aplica probabilidades condicionais para decidir, no fim, a combinação de hiperparâmetros que possui a maior probabilidade de maximizar a métrica desejada\n",
    "\n",
    "> 3. Após a otimização, notou-se uma melhora do retorno financeiro "
   ]
  },
  {
   "attachments": {},
   "cell_type": "markdown",
   "metadata": {},
   "source": [
    "# <font color='red' style='font-size: 40px;'> 5) Solução Questões </font>\n",
    "<hr style='border: 2px solid red;'>"
   ]
  },
  {
   "attachments": {},
   "cell_type": "markdown",
   "metadata": {},
   "source": [
    "### 5.1) Maximização do Lucro Esperado por Cliente"
   ]
  },
  {
   "cell_type": "code",
   "execution_count": 204,
   "metadata": {},
   "outputs": [],
   "source": [
    "def retorno_financeiro_esperado_por_rating(target, y_true, y_predict_proba):\n",
    "    df = pd.DataFrame({'Predict_Proba': y_predict_proba[:, 1]})\n",
    "    df['Rating'] = np.where(df['Predict_Proba'] >= 0.7, 1,\n",
    "                  np.where(df['Predict_Proba'] >= 0.6, 2,\n",
    "                  np.where(df['Predict_Proba'] >= 0.4, 3,\n",
    "                  np.where(df['Predict_Proba'] >= 0.2, 4,\n",
    "                  5))))\n",
    "\n",
    "    matriz_confusao = pd.crosstab(y_true[target], df['Rating'])\n",
    "    matriz_custo_beneficios = np.array([(0, 10), (0, 90)])\n",
    "\n",
    "    # retorno_financeiro = (matriz_confusao.values * matriz_custo_beneficios).sum()\n",
    "    # lucro_esperado = pd.DataFrame({\n",
    "    #     'Predict_Proba': df['Predict_Proba'],\n",
    "    #     'Rating': df['Rating'],\n",
    "    #     'Lucro_Esperado': retorno_financeiro\n",
    "    # })\n",
    "\n",
    "    return matriz_confusao, matriz_custo_beneficios#, lucro_esperado"
   ]
  },
  {
   "cell_type": "code",
   "execution_count": 206,
   "metadata": {},
   "outputs": [
    {
     "data": {
      "text/html": [
       "<div>\n",
       "<style scoped>\n",
       "    .dataframe tbody tr th:only-of-type {\n",
       "        vertical-align: middle;\n",
       "    }\n",
       "\n",
       "    .dataframe tbody tr th {\n",
       "        vertical-align: top;\n",
       "    }\n",
       "\n",
       "    .dataframe thead th {\n",
       "        text-align: right;\n",
       "    }\n",
       "</style>\n",
       "<table border=\"1\" class=\"dataframe\">\n",
       "  <thead>\n",
       "    <tr style=\"text-align: right;\">\n",
       "      <th>Rating</th>\n",
       "      <th>2</th>\n",
       "      <th>3</th>\n",
       "      <th>4</th>\n",
       "    </tr>\n",
       "    <tr>\n",
       "      <th>TARGET</th>\n",
       "      <th></th>\n",
       "      <th></th>\n",
       "      <th></th>\n",
       "    </tr>\n",
       "  </thead>\n",
       "  <tbody>\n",
       "    <tr>\n",
       "      <th>0</th>\n",
       "      <td>11</td>\n",
       "      <td>980</td>\n",
       "      <td>3527</td>\n",
       "    </tr>\n",
       "    <tr>\n",
       "      <th>1</th>\n",
       "      <td>0</td>\n",
       "      <td>39</td>\n",
       "      <td>153</td>\n",
       "    </tr>\n",
       "  </tbody>\n",
       "</table>\n",
       "</div>"
      ],
      "text/plain": [
       "Rating   2    3     4\n",
       "TARGET               \n",
       "0       11  980  3527\n",
       "1        0   39   153"
      ]
     },
     "metadata": {},
     "output_type": "display_data"
    },
    {
     "data": {
      "text/plain": [
       "array([[ 0, 10],\n",
       "       [ 0, 90]])"
      ]
     },
     "metadata": {},
     "output_type": "display_data"
    }
   ],
   "source": [
    "matriz_confusion = retorno_financeiro_esperado_por_rating('TARGET', y_valid, y_proba_valid_otimizado)[0]\n",
    "matriz_custo_benef = retorno_financeiro_esperado_por_rating('TARGET', y_valid, y_proba_valid_otimizado)[1]\n",
    "\n",
    "display(matriz_confusion)\n",
    "display(matriz_custo_benef)"
   ]
  },
  {
   "attachments": {},
   "cell_type": "markdown",
   "metadata": {},
   "source": [
    "### 5.2) Criação de um Rating para a Amostra de Teste"
   ]
  },
  {
   "cell_type": "code",
   "execution_count": null,
   "metadata": {},
   "outputs": [],
   "source": []
  },
  {
   "cell_type": "code",
   "execution_count": null,
   "metadata": {},
   "outputs": [],
   "source": []
  },
  {
   "attachments": {},
   "cell_type": "markdown",
   "metadata": {},
   "source": [
    "### 5.3) Agrupamento dos Três Grupos Naturais com Base no Rating"
   ]
  },
  {
   "cell_type": "code",
   "execution_count": null,
   "metadata": {},
   "outputs": [],
   "source": [
    "def kmeans_esc(data, features , n_clusters):\n",
    "\n",
    "    scaler = StandardScaler()\n",
    "    padronizado = scaler.fit_transform(data[features])\n",
    "\n",
    "    kmeans = KMeans(n_clusters = n_clusters, init = 'k-means++', random_state = 42, max_iter = 300)\n",
    "    kmeans = kmeans.fit(padronizado)\n",
    "    \n",
    "    clusters = kmeans.labels_ # Clusters para cada um dos registros \n",
    "\n",
    "    return clusters\n",
    "\n",
    "\n",
    "def elbow_method(data, features):\n",
    "    scaler = StandardScaler()\n",
    "    padronizado = scaler.fit_transform(data[features])\n",
    "\n",
    "    wcss = []\n",
    "    for n_clusters in range(1, 11):\n",
    "        kmeans = KMeans(n_clusters=n_clusters, init='k-means++', random_state=42, max_iter=300)\n",
    "        kmeans.fit(padronizado)\n",
    "        wcss.append(kmeans.inertia_)\n",
    "\n",
    "    plt.figure(figsize=(10, 6))\n",
    "    sns.lineplot(range(1, 11), wcss, marker='o', color='orange')\n",
    "    plt.title('O Método Elbow', fontsize=16, fontweight='bold')\n",
    "    plt.xlabel('Número de Clusters', fontsize=12)\n",
    "    plt.ylabel('WCSS (Soma dos Quadrados das Distâncias)', fontsize=12)\n",
    "    plt.xticks(range(1, 11))\n",
    "    plt.yticks(fontsize=10)\n",
    "    plt.grid(True, linestyle='--', linewidth=0.5)\n",
    "    plt.tight_layout()\n",
    "    plt.show()\n",
    "\n",
    "\n",
    "def ordenador_de_cluster(metodo_cluster, variavel, ordem, dados):\n",
    "\n",
    "    media_cluster = dados.groupby(metodo_cluster, as_index = False)[variavel].mean()\n",
    "    score_cluster = media_cluster.sort_values(by = variavel, ascending = ordem)\n",
    "    score_cluster['index'] = media_cluster.index \n",
    "\n",
    "    df_final = dados.merge(score_cluster[[metodo_cluster, 'index']], on = metodo_cluster)\n",
    "    df_final.drop(metodo_cluster, axis = 1, inplace = True)\n",
    "    df_final.rename({'index':metodo_cluster}, axis = 1, inplace = True)\n",
    "\n",
    "\n",
    "    return df_final\n"
   ]
  },
  {
   "cell_type": "code",
   "execution_count": null,
   "metadata": {},
   "outputs": [],
   "source": []
  }
 ],
 "metadata": {
  "kernelspec": {
   "display_name": "base",
   "language": "python",
   "name": "python3"
  },
  "language_info": {
   "codemirror_mode": {
    "name": "ipython",
    "version": 3
   },
   "file_extension": ".py",
   "mimetype": "text/x-python",
   "name": "python",
   "nbconvert_exporter": "python",
   "pygments_lexer": "ipython3",
   "version": "3.9.16"
  },
  "orig_nbformat": 4
 },
 "nbformat": 4,
 "nbformat_minor": 2
}
